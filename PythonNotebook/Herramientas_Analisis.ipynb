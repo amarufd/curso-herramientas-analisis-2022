{
  "cells": [
    {
      "cell_type": "code",
      "execution_count": 3,
      "metadata": {
        "colab": {
          "base_uri": "https://localhost:8080/"
        },
        "id": "PmDl_lhHbiOh",
        "outputId": "ca2326f3-95ca-4b7b-a982-f928fb200487"
      },
      "outputs": [
        {
          "name": "stdout",
          "output_type": "stream",
          "text": [
            "<class 'int'>\n",
            "5\n",
            "<class 'str'>\n",
            "bienbenidos a clases\n",
            "<class 'bool'>\n",
            "True\n",
            "4\n",
            "3\n",
            "False\n",
            "False\n"
          ]
        }
      ],
      "source": [
        "# trabajando con números\n",
        "numero = 5\n",
        "print(type(numero))\n",
        "print(numero)\n",
        "\n",
        "# trabajando con texto\n",
        "texto = \"bienbenidos a clases\"\n",
        "print(type(texto))\n",
        "print(texto)\n",
        "\n",
        "# Trabajando con booleanos\n",
        "boolean = True or False\n",
        "print(type(boolean))\n",
        "print(boolean)\n",
        "\n",
        "\n",
        "# operadores algebraicos\n",
        "\n",
        "# calcuando el mod\n",
        "modulo = 19 % 5\n",
        "print(modulo)\n",
        "\n",
        "# Calculando uan division entera\n",
        "division_entera = 19 // 5\n",
        "print(division_entera)\n",
        "\n",
        "\n",
        "# operadores lógicos\n",
        "\n",
        "# mayor igual que \n",
        "mayor_igual_que = 267 >= 487\n",
        "print(mayor_igual_que)\n",
        "\n",
        "# Distinto de\n",
        "distinto_de = 22 != 22\n",
        "print(distinto_de)\n"
      ]
    },
    {
      "cell_type": "code",
      "execution_count": 4,
      "metadata": {
        "colab": {
          "base_uri": "https://localhost:8080/"
        },
        "id": "sncMSLknk-cu",
        "outputId": "c7d2dbf4-dc3f-4e3e-fcdf-2d975f1a5d3a"
      },
      "outputs": [
        {
          "name": "stdout",
          "output_type": "stream",
          "text": [
            "x es menor que y\n"
          ]
        }
      ],
      "source": [
        "# Condicional if ... else\n",
        "\n",
        "x = 284\n",
        "y = 847\n",
        "\n",
        "if x > y :\n",
        "  print(\"x es mayor que y\")\n",
        "elif x == y :\n",
        "  print(\"x es iagual a y\")\n",
        "else:\n",
        "  print(\"x es menor que y\")"
      ]
    },
    {
      "cell_type": "code",
      "execution_count": 6,
      "metadata": {
        "colab": {
          "base_uri": "https://localhost:8080/"
        },
        "id": "n_UpesKemxH9",
        "outputId": "cc68372d-e6bd-4a98-e19a-daaca17fe383"
      },
      "outputs": [
        {
          "name": "stdout",
          "output_type": "stream",
          "text": [
            "########### lista_vacia ###########\n",
            "0\n",
            "[]\n",
            "########### lista_texto ###########\n",
            "4\n",
            "['leon', 'cocodrilo', 'puma', 'elefante']\n",
            "leon\n",
            "########### lista_numeros ###########\n",
            "5\n",
            "[2, 34, 456, 232, 65]\n",
            "34\n",
            "########### lista_boolean ###########\n",
            "4\n",
            "[True, True, False, True]\n",
            "True\n",
            "########### lista_de_listas ###########\n",
            "[[1, 213, 23, 213, 1], ['hola', 'mundo']]\n",
            "########### lista_vacia ###########\n",
            "7\n",
            "['no me gusta el chocolate', 'salta que hace frio', 'leon', 'cocodrilo', 'las plantas estan muy verdes', 'puma', 'elefante']\n",
            "['cocodrilo', 'elefante', 'las plantas estan muy verdes', 'leon', 'no me gusta el chocolate', 'puma', 'salta que hace frio']\n"
          ]
        }
      ],
      "source": [
        "# list/array\n",
        "\n",
        "# creando una lista vacia\n",
        "print(\"########### lista_vacia ###########\")\n",
        "lista_vacia = []\n",
        "print(len(lista_vacia))\n",
        "print(lista_vacia)\n",
        "\n",
        "# creando una lista de texto\n",
        "print(\"########### lista_texto ###########\")\n",
        "lista_texto = [\"leon\",\"cocodrilo\",\"puma\",\"elefante\"]\n",
        "print(len(lista_texto))\n",
        "print(lista_texto)\n",
        "print(lista_texto[0])\n",
        "\n",
        "# creando una lista de números\n",
        "print(\"########### lista_numeros ###########\")\n",
        "lista_numeros = [2,34,456,232,65]\n",
        "print(len(lista_numeros))\n",
        "print(lista_numeros)\n",
        "print(lista_numeros[1])\n",
        "\n",
        "# creando lista de booleanos\n",
        "print(\"########### lista_boolean ###########\")\n",
        "lista_boolean = [True, True, False, True]\n",
        "print(len(lista_boolean))\n",
        "print(lista_boolean)\n",
        "print(lista_boolean[3])\n",
        "\n",
        "# lista de listas\n",
        "print(\"########### lista_de_listas ###########\")\n",
        "lista_de_listas = [[1,213,23,213,1],[\"hola\",\"mundo\"]]\n",
        "print(lista_de_listas)\n",
        "\n",
        "\n",
        "\n",
        "## Aregando datos a la lista\n",
        "print(\"########### lista_vacia ###########\")\n",
        "lista_vacia.append(\"no me gusta el chocolate\")\n",
        "lista_vacia.append(\"salta que hace frio\")\n",
        "lista_vacia.extend(lista_texto)\n",
        "lista_vacia.insert(4,\"las plantas estan muy verdes\")\n",
        "print(len(lista_vacia))\n",
        "print(lista_vacia)\n",
        "lista_vacia.sort()\n",
        "print(lista_vacia)"
      ]
    },
    {
      "cell_type": "code",
      "execution_count": 19,
      "metadata": {},
      "outputs": [
        {
          "name": "stdout",
          "output_type": "stream",
          "text": [
            "Antes del time\n",
            "Despues del time\n"
          ]
        }
      ],
      "source": [
        "import time\n",
        "\n",
        "print(\"Antes del time\")\n",
        "time.sleep(5)\n",
        "print(\"Despues del time\")\n"
      ]
    },
    {
      "cell_type": "code",
      "execution_count": 16,
      "metadata": {},
      "outputs": [
        {
          "name": "stdout",
          "output_type": "stream",
          "text": [
            "hora ejecucion antes del time.sleep: 27_32_19_16_05_2022\n",
            "hora ejecucion despues del time.sleep: 2022-05-16 19:32:32.432448\n"
          ]
        }
      ],
      "source": [
        "from datetime import datetime as dt\n",
        "\n",
        "ahora = dt.now()\n",
        "print('hora ejecucion antes del time.sleep: {}'.format(ahora))\n",
        "time.sleep(5)\n",
        "ahora = dt.now()\n",
        "print('hora ejecucion despues del time.sleep: {}'.format(ahora))\n",
        "\n"
      ]
    },
    {
      "cell_type": "code",
      "execution_count": 50,
      "metadata": {},
      "outputs": [
        {
          "name": "stdout",
          "output_type": "stream",
          "text": [
            "=====> hora ejecucion antes del for: 20:14:36\n",
            "cocodrilo\n",
            "Espera . . .\n",
            "elefante\n",
            "Espera . . .\n",
            "las plantas estan muy verdes\n",
            "Espera . . .\n",
            "leon\n",
            "Espera . . .\n",
            "no me gusta el chocolate\n",
            "anda muy mañoso\n",
            "Espera . . .\n",
            "puma\n",
            "Espera . . .\n",
            "salta que hace frio\n",
            "Espera . . .\n",
            "no tengo ganas de once\n",
            "anda muy mañoso\n",
            "Espera . . .\n",
            "=====> hora ejecucion despues del for: 20:14:48\n",
            "=====> tiempo de ejecucion: 0:00:12.025635\n"
          ]
        }
      ],
      "source": [
        "\n",
        "ahora = dt.now()\n",
        "print('=====> hora ejecucion antes del for: {}'.format(ahora.strftime(\"%H:%M:%S\")))\n",
        "for elemento in lista_vacia:\n",
        "    print(elemento)\n",
        "    if elemento.find(\"no\") != -1:\n",
        "        print(\"anda muy mañoso\")\n",
        "    \n",
        "    print('Espera . . .')\n",
        "    time.sleep(1.5)\n",
        "\n",
        "final = dt.now()\n",
        "print('=====> hora ejecucion despues del for: {}'.format(final.strftime(\"%H:%M:%S\")))\n",
        "print('=====> tiempo de ejecucion: {}'.format(final - ahora))\n",
        "\n"
      ]
    },
    {
      "cell_type": "code",
      "execution_count": 27,
      "metadata": {},
      "outputs": [
        {
          "name": "stdout",
          "output_type": "stream",
          "text": [
            "[2, 34, 456, 232, 65]\n",
            "=====> hora ejecucion antes del for: 19:45:41\n",
            "2\n",
            "Espera . . .\n",
            "34\n",
            "Espera . . .\n",
            "456\n",
            "Espera . . .\n",
            "232\n",
            "Espera . . .\n",
            "65\n",
            "Espera . . .\n",
            "=====> hora ejecucion despues del for: 19:45:56\n",
            "=====> tiempo de ejecucion: 0:00:15.012251\n"
          ]
        }
      ],
      "source": [
        "print(lista_numeros)\n",
        "ahora = dt.now()\n",
        "print('=====> hora ejecucion antes del for: {}'.format(ahora.strftime(\"%H:%M:%S\")))\n",
        "for numero in lista_numeros:\n",
        "    print(numero)\n",
        "    print('Espera . . .')\n",
        "    time.sleep(3)\n",
        "\n",
        "final = dt.now()\n",
        "print('=====> hora ejecucion despues del for: {}'.format(final.strftime(\"%H:%M:%S\")))\n",
        "print('=====> tiempo de ejecucion: {}'.format(final - ahora))"
      ]
    },
    {
      "cell_type": "code",
      "execution_count": 29,
      "metadata": {},
      "outputs": [
        {
          "name": "stdout",
          "output_type": "stream",
          "text": [
            "########### lista_vacia ###########\n",
            "7\n",
            "['cocodrilo', 'elefante', 'las plantas estan muy verdes', 'leon', 'no me gusta el chocolate', 'puma', 'salta que hace frio']\n"
          ]
        }
      ],
      "source": [
        "\n",
        "# obteniendo el lardo de la lista lista_vacia\n",
        "print(\"########### lista_vacia ###########\")\n",
        "print(len(lista_vacia))\n",
        "print(lista_vacia)\n"
      ]
    },
    {
      "cell_type": "code",
      "execution_count": 31,
      "metadata": {},
      "outputs": [
        {
          "name": "stdout",
          "output_type": "stream",
          "text": [
            "########### range() ###########\n",
            "range(0, 10)\n",
            "0\n",
            "1\n",
            "2\n",
            "3\n",
            "4\n",
            "5\n",
            "6\n",
            "7\n",
            "8\n",
            "9\n"
          ]
        }
      ],
      "source": [
        "# Revisando el range()\n",
        "print(\"########### range() ###########\")\n",
        "print(range(10))\n",
        "\n",
        "for i in range(10):\n",
        "    print(i)"
      ]
    },
    {
      "cell_type": "code",
      "execution_count": 44,
      "metadata": {},
      "outputs": [
        {
          "name": "stdout",
          "output_type": "stream",
          "text": [
            "########### lista_vacia ###########\n",
            "['cocodrilo', 'elefante', 'las plantas estan muy verdes', 'leon', 'no me gusta el chocolate', 'puma', 'salta que hace frio', 'tengo ganas de once']\n",
            "las plantas estan muy verdes\n",
            "salta que hace frio\n",
            "tengo ganas de once\n",
            "range(0, 8)\n",
            "======== Inicio de for =========\n",
            "El elemto: \"cocodrilo\" está en la posición: 0 \n",
            "El elemto: \"elefante\" está en la posición: 1 \n",
            "El elemto: \"las plantas estan muy verdes\" está en la posición: 2 \n",
            "El elemto: \"leon\" está en la posición: 3 \n",
            "El elemto: \"no me gusta el chocolate\" está en la posición: 4 \n",
            "El elemto: \"puma\" está en la posición: 5 \n",
            "El elemto: \"salta que hace frio\" está en la posición: 6 \n",
            "El elemto: \"tengo ganas de once\" está en la posición: 7 \n"
          ]
        }
      ],
      "source": [
        "# Revisando datos de una lista\n",
        "lista_vacia.append(\"tengo ganas de once\")\n",
        "\n",
        "print(\"########### lista_vacia ###########\")\n",
        "print(lista_vacia)\n",
        "\n",
        "print(lista_vacia[2])\n",
        "\n",
        "print(lista_vacia[6])\n",
        "\n",
        "print(lista_vacia[len(lista_vacia) - 1])\n",
        "\n",
        "print(range(len(lista_vacia)))\n",
        "\n",
        "print(\"======== Inicio de for =========\")\n",
        "for i in range(len(lista_vacia)):\n",
        "    # print(lista_vacia[i])\n",
        "    # print(i)\n",
        "    print('El elemto: \"{}\" está en la posición: {} '.format(lista_vacia[i], i))\n",
        "    \n"
      ]
    },
    {
      "cell_type": "code",
      "execution_count": 48,
      "metadata": {},
      "outputs": [
        {
          "name": "stdout",
          "output_type": "stream",
          "text": [
            "no tengo ganas de once\n",
            "-1\n"
          ]
        }
      ],
      "source": [
        "print(lista_vacia[7])\n",
        "\n",
        "lista_vacia[7] = 'no tengo ganas de once'\n",
        "\n",
        "print(lista_vacia[7].find('si'))\n"
      ]
    },
    {
      "cell_type": "code",
      "execution_count": 51,
      "metadata": {},
      "outputs": [
        {
          "name": "stdout",
          "output_type": "stream",
          "text": [
            "===> Antes del replace el elemeto: \"cocodrilo\" está en la posición: 0 \n",
            "Despues del replace el elemeto: \"cocodrilo\" está en la posición: 0 <===\n",
            "===> Antes del replace el elemeto: \"elefante\" está en la posición: 1 \n",
            "Despues del replace el elemeto: \"elefante\" está en la posición: 1 <===\n",
            "===> Antes del replace el elemeto: \"las plantas estan muy verdes\" está en la posición: 2 \n",
            "Despues del replace el elemeto: \"las plantas estan muy verdes\" está en la posición: 2 <===\n",
            "===> Antes del replace el elemeto: \"leon\" está en la posición: 3 \n",
            "Despues del replace el elemeto: \"leon\" está en la posición: 3 <===\n",
            "===> Antes del replace el elemeto: \"no me gusta el chocolate\" está en la posición: 4 \n",
            "Despues del replace el elemeto: \"si me gusta el chocolate\" está en la posición: 4 <===\n",
            "===> Antes del replace el elemeto: \"puma\" está en la posición: 5 \n",
            "Despues del replace el elemeto: \"puma\" está en la posición: 5 <===\n",
            "===> Antes del replace el elemeto: \"salta que hace frio\" está en la posición: 6 \n",
            "Despues del replace el elemeto: \"salta que hace frio\" está en la posición: 6 <===\n",
            "===> Antes del replace el elemeto: \"no tengo ganas de once\" está en la posición: 7 \n",
            "Despues del replace el elemeto: \"si tengo ganas de once\" está en la posición: 7 <===\n"
          ]
        }
      ],
      "source": [
        "# usando replace\n",
        "for i in range(len(lista_vacia)):\n",
        "    # print(lista_vacia[i])\n",
        "    # print(i)\n",
        "    print('===> Antes del replace el elemeto: \"{}\" está en la posición: {} '.format(lista_vacia[i], i))\n",
        "    if lista_vacia[i].find('no') != -1:\n",
        "        lista_vacia[i] = lista_vacia[i].replace('no', 'si')\n",
        "    print('Despues del replace el elemeto: \"{}\" está en la posición: {} <==='.format(lista_vacia[i], i))"
      ]
    },
    {
      "cell_type": "code",
      "execution_count": 58,
      "metadata": {},
      "outputs": [
        {
          "data": {
            "text/plain": [
              "{'16093': {'nombre': 'Amaru',\n",
              "  'apellido': 'Sanchez',\n",
              "  'edad': '21',\n",
              "  'genero': 'masculino'},\n",
              " '16094': {'nombre': 'Juan',\n",
              "  'apellido': 'Perez',\n",
              "  'edad': '22',\n",
              "  'genero': 'masculino'},\n",
              " '16095': {'nombre': 'Maria',\n",
              "  'apellido': 'Perez',\n",
              "  'edad': '23',\n",
              "  'genero': 'femenino'},\n",
              " '16096': {'nombre': 'Paola',\n",
              "  'apellido': 'Mellado',\n",
              "  'edad': '24',\n",
              "  'genero': 'femenino'},\n",
              " '16097': {'nombre': 'Nelson',\n",
              "  'apellido': 'Troncoso',\n",
              "  'edad': '25',\n",
              "  'genero': 'masculino'}}"
            ]
          },
          "execution_count": 58,
          "metadata": {},
          "output_type": "execute_result"
        }
      ],
      "source": [
        "import json\n",
        "# ============== usando el diccionario =================\n",
        "\n",
        "\n",
        "# ============== Agregando datos al diccionario =================\n",
        "personas = {\n",
        "    '16093': {\n",
        "        'nombre': 'Amaru',\n",
        "        'apellido': 'Sanchez',\n",
        "        'edad': '21',\n",
        "        'genero': 'masculino'\n",
        "    },\n",
        "    '16094': {\n",
        "        'nombre': 'Juan',\n",
        "        'apellido': 'Perez',\n",
        "        'edad': '22',\n",
        "        'genero': 'masculino'\n",
        "    },\n",
        "    '16095': {\n",
        "        'nombre': 'Maria',\n",
        "        'apellido': 'Perez',\n",
        "        'edad': '23',\n",
        "        'genero': 'femenino'\n",
        "    }\n",
        "}\n",
        "\n",
        "personas['16096'] = {\n",
        "    'nombre': 'Paola',\n",
        "    'apellido': 'Mellado',\n",
        "    'edad': '24',\n",
        "    'genero': 'femenino'\n",
        "}\n",
        "\n",
        "\n",
        "personas.update({'16097': {\n",
        "    'nombre': 'Nelson',\n",
        "    'apellido': 'Troncoso',\n",
        "    'edad': '25',\n",
        "    'genero': 'masculino'\n",
        "}})\n",
        "\n",
        "personas\n",
        "\n"
      ]
    },
    {
      "cell_type": "code",
      "execution_count": 74,
      "metadata": {},
      "outputs": [
        {
          "name": "stdout",
          "output_type": "stream",
          "text": [
            "Amaru\n",
            "Sanchez\n",
            "No se encontro el elemento 16095\n",
            "La persona 16098 no existe\n",
            "La persona 16095 no existe\n",
            "La persona 16094 no existe\n"
          ]
        },
        {
          "data": {
            "text/plain": [
              "{'16093': {'nombre': 'Amaru',\n",
              "  'apellido': 'Sanchez',\n",
              "  'edad': '21',\n",
              "  'genero': 'masculino'},\n",
              " '16096': {'nombre': 'Paola',\n",
              "  'apellido': 'Mellado',\n",
              "  'edad': '24',\n",
              "  'genero': 'femenino'},\n",
              " '16097': {'nombre': 'Nelson',\n",
              "  'apellido': 'Troncoso',\n",
              "  'edad': '25',\n",
              "  'genero': 'masculino'}}"
            ]
          },
          "execution_count": 74,
          "metadata": {},
          "output_type": "execute_result"
        }
      ],
      "source": [
        "# ============== Obteniendo datos del diccionario =================\n",
        "\n",
        "persona_16093 = personas['16093']\n",
        "\n",
        "print(persona_16093['nombre'])\n",
        "print(persona_16093['apellido'])\n",
        "\n",
        "busqueda = '16095'\n",
        "\n",
        "try:\n",
        "    print(personas[busqueda]['nombre'])\n",
        "    print(personas[busqueda]['edad'])\n",
        "\n",
        "\n",
        "\n",
        "    # ============== Agregando elementos al diccionario =================\n",
        "\n",
        "    personas[busqueda]['ocupacion'] = 'estudiante'\n",
        "\n",
        "except:\n",
        "    print('No se encontro el elemento {}'.format(busqueda))\n",
        "\n",
        "# ============== Buscando elementos del diccionario =================\n",
        "\n",
        "busqueda = '16098'\n",
        "\n",
        "if busqueda in personas:\n",
        "    print('La persona {} existe'.format(busqueda))\n",
        "else:\n",
        "    print('La persona {} no existe'.format(busqueda))\n",
        "\n",
        "\n",
        "# ============== Eliminando elementos del diccionario =================\n",
        "\n",
        "busqueda = '16095'\n",
        "try:\n",
        "    del personas[busqueda]\n",
        "except: \n",
        "    print('La persona {} no existe'.format(busqueda))\n",
        "\n",
        "busqueda = '16094'\n",
        "try:\n",
        "    personas.pop(busqueda)\n",
        "except:\n",
        "    print('La persona {} no existe'.format(busqueda))\n",
        "\n",
        "personas\n"
      ]
    },
    {
      "cell_type": "code",
      "execution_count": 76,
      "metadata": {},
      "outputs": [
        {
          "name": "stdout",
          "output_type": "stream",
          "text": [
            "valor de \"persona\": 16093\n",
            "valor de \"personas[persona]\": {'nombre': 'Amaru', 'apellido': 'Sanchez', 'edad': '21', 'genero': 'masculino'}\n",
            "valor de \"persona\": 16096\n",
            "valor de \"personas[persona]\": {'nombre': 'Paola', 'apellido': 'Mellado', 'edad': '24', 'genero': 'femenino'}\n",
            "valor de \"persona\": 16097\n",
            "valor de \"personas[persona]\": {'nombre': 'Nelson', 'apellido': 'Troncoso', 'edad': '25', 'genero': 'masculino'}\n",
            "############### Recorriendo el diccionario con items ###############\n",
            "valor de \"llave\": 16093\n",
            "valor de \"valor\": {'nombre': 'Amaru', 'apellido': 'Sanchez', 'edad': '21', 'genero': 'masculino'}\n",
            "valor de \"llave\": 16096\n",
            "valor de \"valor\": {'nombre': 'Paola', 'apellido': 'Mellado', 'edad': '24', 'genero': 'femenino'}\n",
            "valor de \"llave\": 16097\n",
            "valor de \"valor\": {'nombre': 'Nelson', 'apellido': 'Troncoso', 'edad': '25', 'genero': 'masculino'}\n"
          ]
        }
      ],
      "source": [
        "# ============== Recorriendo el diccionario =================\n",
        "\n",
        "for persona in personas:\n",
        "    print('valor de \"persona\": {}'.format(persona))\n",
        "    print('valor de \"personas[persona]\": {}'.format(personas[persona]))\n",
        "\n",
        "print('############### Recorriendo el diccionario con items ###############')\n",
        "\n",
        "for llave, valor in personas.items():\n",
        "    print('valor de \"llave\": {}'.format(llave))\n",
        "    print('valor de \"valor\": {}'.format(valor))"
      ]
    }
  ],
  "metadata": {
    "colab": {
      "name": "Herramientas_Analisis.ipynb",
      "provenance": []
    },
    "interpreter": {
      "hash": "8f49d0a2ccb4f97d01c250111adf553a964e7903b00b36a23a22a6d59366461d"
    },
    "kernelspec": {
      "display_name": "Python 3.8.11 64-bit ('3.8.11')",
      "language": "python",
      "name": "python3"
    },
    "language_info": {
      "codemirror_mode": {
        "name": "ipython",
        "version": 3
      },
      "file_extension": ".py",
      "mimetype": "text/x-python",
      "name": "python",
      "nbconvert_exporter": "python",
      "pygments_lexer": "ipython3",
      "version": "3.8.11"
    }
  },
  "nbformat": 4,
  "nbformat_minor": 0
}
