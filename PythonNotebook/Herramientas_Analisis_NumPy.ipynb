{
 "cells": [
  {
   "cell_type": "markdown",
   "metadata": {},
   "source": [
    "# NumPy"
   ]
  },
  {
   "cell_type": "code",
   "execution_count": 31,
   "metadata": {},
   "outputs": [],
   "source": [
    "import numpy as np\n",
    "import time"
   ]
  },
  {
   "cell_type": "code",
   "execution_count": 1,
   "metadata": {},
   "outputs": [
    {
     "name": "stdout",
     "output_type": "stream",
     "text": [
      "[1, 2, 3, 4, 5, 6, 7, 9, 10]\n",
      "<class 'list'>\n",
      "[ 1  2  3  4  5  6  7  8  9 10]\n",
      "<class 'numpy.ndarray'>\n"
     ]
    }
   ],
   "source": [
    "####################### Numpy ##############################\n",
    "\n",
    "arreglo_normal = [1, 2 ,3 ,4 ,5 ,6 ,7 ,9 ,10 ]\n",
    "print(arreglo_normal)\n",
    "print(type(arreglo_normal))\n",
    "\n",
    "arreglo_numpy = np.array([1,2,3,4,5,6,7,8,9,10])\n",
    "print(arreglo_numpy)\n",
    "print(type(arreglo_numpy))\n"
   ]
  },
  {
   "cell_type": "code",
   "execution_count": 2,
   "metadata": {},
   "outputs": [
    {
     "name": "stdout",
     "output_type": "stream",
     "text": [
      "########### arreglo de una dimensión ##############\n",
      "[ 1  2  3  4  5  6  7  8  9 10]\n",
      "1\n",
      "########### arreglo de dos dimensiones ##############\n",
      "[[ 1  2  3  4  5  6  7  8  9 10]\n",
      " [11 12 13 14 15 16 17 18 19 20]]\n",
      "11\n",
      "1\n",
      "########### arreglo de tres dimensiones ##############\n",
      "[[[ 1  2  3  4  5  6  7  8  9 10]\n",
      "  [11 12 13 14 15 16 17 18 19 20]]\n",
      "\n",
      " [[21 22 23 24 25 26 27 28 29 30]\n",
      "  [31 32 33 34 35 36 37 38 39 40]]]\n",
      "21\n",
      "21\n"
     ]
    }
   ],
   "source": [
    "########### arreglo de una dimensión ##############\n",
    "\n",
    "print('########### arreglo de una dimensión ##############')\n",
    "arr_una_dim = np.array([1,2,3,4,5,6,7,8,9,10])\n",
    "print(arr_una_dim)\n",
    "print(arr_una_dim[0])\n",
    "\n",
    "########### arreglo de dos dimensiones ##############\n",
    "\n",
    "print(\"########### arreglo de dos dimensiones ##############\")\n",
    "arr_dos_dim = np.array([[1,2,3,4,5,6,7,8,9,10],[11,12,13,14,15,16,17,18,19,20]])\n",
    "print(arr_dos_dim)\n",
    "print(arr_dos_dim[1][0])\n",
    "print(arr_dos_dim[0,0])\n",
    "\n",
    "########### arreglo de tres dimensiones ##############\n",
    "\n",
    "print('########### arreglo de tres dimensiones ##############')\n",
    "arr_tres_dim = np.array([[[1,2,3,4,5,6,7,8,9,10],[11,12,13,14,15,16,17,18,19,20]],\n",
    "[[21,22,23,24,25,26,27,28,29,30],[31,32,33,34,35,36,37,38,39,40]]])\n",
    "print(arr_tres_dim)\n",
    "print(arr_tres_dim[1,0,0])\n",
    "print(arr_tres_dim[1][0][0])"
   ]
  },
  {
   "cell_type": "code",
   "execution_count": 3,
   "metadata": {},
   "outputs": [
    {
     "name": "stdout",
     "output_type": "stream",
     "text": [
      "########## indice negativo en una dimensión ##########\n",
      "10\n",
      "########## indice negativo en dos dimensiones ##########\n",
      "11\n",
      "20\n",
      "########## indice negativo en tres dimensiones ##########\n",
      "31\n",
      "26\n"
     ]
    }
   ],
   "source": [
    "########################## índice negativo ##########################\n",
    "\n",
    "# viendo el ultimo elemento del arr_una_dim\n",
    "print('########## indice negativo en una dimensión ##########')\n",
    "print(arr_una_dim[-1])\n",
    "\n",
    "\n",
    "# viendo el primer elemento de la ultima fila del arr_dos_dim\n",
    "print('########## indice negativo en dos dimensiones ##########')\n",
    "print(arr_dos_dim[-1,0])\n",
    "print(arr_dos_dim[-1,-1])\n",
    "\n",
    "\n",
    "# viendo el primer elemento del segundo vertice en la ultima fila del arr_tres_dim\n",
    "print('########## indice negativo en tres dimensiones ##########')\n",
    "print(arr_tres_dim[-1,1,0])\n",
    "print(arr_tres_dim[-1,0,-5])"
   ]
  },
  {
   "cell_type": "code",
   "execution_count": 7,
   "metadata": {},
   "outputs": [
    {
     "name": "stdout",
     "output_type": "stream",
     "text": [
      "########## rangos en una dimensión ##########\n",
      "[1 2 3 4 5]\n",
      "====> [1]\n",
      "[ 5  6  7  8  9 10]\n",
      "########## rangos con pasos en una dimensión ##########\n",
      "[1 3 5 7 9]\n",
      "[ 1  4  7 10]\n"
     ]
    }
   ],
   "source": [
    "########################## rangos ##########################\n",
    "\n",
    "# recorriendo del 1 al 5 del arr_una_dim\n",
    "print('########## rangos en una dimensión ##########')\n",
    "print(arr_una_dim[0:5])\n",
    "print(arr_una_dim[4:10])\n",
    "\n",
    "########################## rangos con pasos ##########################\n",
    "print('########## rangos con pasos en una dimensión ##########')\n",
    "print(arr_una_dim[0:10:2])\n",
    "print(arr_una_dim[0:10:3])\n"
   ]
  },
  {
   "cell_type": "code",
   "execution_count": 10,
   "metadata": {},
   "outputs": [
    {
     "name": "stdout",
     "output_type": "stream",
     "text": [
      "########## recorriendo con rangos sin inicio en una dimensión ##########\n",
      "[1 2 3 4 5]\n",
      "########## recorriendo con rangos sin fin en una dimensión ##########\n",
      "[ 6  7  8  9 10]\n",
      "########## recorriendo con rangos sin inicio y sin fin en una dimensión ##########\n",
      "[ 1  2  3  4  5  6  7  8  9 10]\n",
      "########## recorriendo con rangos negativos en una dimensión ##########\n",
      "[6 7 8 9]\n",
      "[ 6  7  8  9 10]\n",
      "[10]\n"
     ]
    }
   ],
   "source": [
    "########################## recorriendo con rangos sin inicio ##########################\n",
    "print('########## recorriendo con rangos sin inicio en una dimensión ##########')\n",
    "print(arr_una_dim[:5])\n",
    "\n",
    "########################## recorriendo con rangos sin fin ##########################\n",
    "print('########## recorriendo con rangos sin fin en una dimensión ##########')\n",
    "print(arr_una_dim[5:])\n",
    "\n",
    "########################## recorriendo con rangos sin inicio y sin fin ##########################\n",
    "print('########## recorriendo con rangos sin inicio y sin fin en una dimensión ##########')\n",
    "print(arr_una_dim[:])\n",
    "\n",
    "\n",
    "########################## recorriendo con rangos negativos ##########################\n",
    "print('########## recorriendo con rangos negativos en una dimensión ##########')\n",
    "print(arr_una_dim[-5:-1])\n",
    "print(arr_una_dim[-5:])\n",
    "print(arr_una_dim[-1:])"
   ]
  },
  {
   "cell_type": "code",
   "execution_count": 14,
   "metadata": {},
   "outputs": [
    {
     "name": "stdout",
     "output_type": "stream",
     "text": [
      "(10,)\n",
      "(2, 10)\n",
      "(2, 2, 10)\n"
     ]
    }
   ],
   "source": [
    "# Shape en una dimensión\n",
    "print(arr_una_dim.shape)\n",
    "\n",
    "# Shape en dos dimensiones\n",
    "print(arr_dos_dim.shape)\n",
    "\n",
    "# Shape en tres dimensiones\n",
    "print(arr_tres_dim.shape)"
   ]
  },
  {
   "cell_type": "code",
   "execution_count": 26,
   "metadata": {},
   "outputs": [
    {
     "name": "stdout",
     "output_type": "stream",
     "text": [
      "reshape de 5,2\n",
      "[[ 1  2]\n",
      " [ 3  4]\n",
      " [ 5  6]\n",
      " [ 7  8]\n",
      " [ 9 10]]\n",
      "reshape de 2,5\n",
      "[[ 1  2  3  4  5]\n",
      " [ 6  7  8  9 10]]\n",
      "reshape de 2,5,2\n",
      "[[[ 1  2]\n",
      "  [ 3  4]\n",
      "  [ 5  6]\n",
      "  [ 7  8]\n",
      "  [ 9 10]]\n",
      "\n",
      " [[11 12]\n",
      "  [13 14]\n",
      "  [15 16]\n",
      "  [17 18]\n",
      "  [19 20]]]\n",
      "reshape de 2,5,2,2\n",
      "[[[[ 1  2]\n",
      "   [ 3  4]]\n",
      "\n",
      "  [[ 5  6]\n",
      "   [ 7  8]]\n",
      "\n",
      "  [[ 9 10]\n",
      "   [11 12]]\n",
      "\n",
      "  [[13 14]\n",
      "   [15 16]]\n",
      "\n",
      "  [[17 18]\n",
      "   [19 20]]]\n",
      "\n",
      "\n",
      " [[[21 22]\n",
      "   [23 24]]\n",
      "\n",
      "  [[25 26]\n",
      "   [27 28]]\n",
      "\n",
      "  [[29 30]\n",
      "   [31 32]]\n",
      "\n",
      "  [[33 34]\n",
      "   [35 36]]\n",
      "\n",
      "  [[37 38]\n",
      "   [39 40]]]]\n"
     ]
    }
   ],
   "source": [
    "# reshape en una dimensión\n",
    "print('reshape de 5,2')\n",
    "resha_arr_una_dim = arr_una_dim.reshape(5,2)\n",
    "print(resha_arr_una_dim)\n",
    "\n",
    "print('reshape de 2,5')\n",
    "resha_arr_una_dim = arr_una_dim.reshape(2,5)\n",
    "print(resha_arr_una_dim)\n",
    "\n",
    "# reshape en dos dimensiones\n",
    "print('reshape de 2,5,2')\n",
    "resha_arr_dos_dim = arr_dos_dim.reshape(2,5,2)\n",
    "print(resha_arr_dos_dim)\n",
    "\n",
    "# reshape en tres dimensiones\n",
    "print('reshape de 2,5,2,2')\n",
    "resha_arr_tres_dim = arr_tres_dim.reshape(2,5,2,2)\n",
    "print(resha_arr_tres_dim)\n",
    "\n"
   ]
  },
  {
   "cell_type": "code",
   "execution_count": 30,
   "metadata": {},
   "outputs": [
    {
     "name": "stdout",
     "output_type": "stream",
     "text": [
      "reshape con el comodin -1,2\n",
      "(10,)\n",
      "(5, 2)\n",
      "volviendo a una dimensión\n",
      "(2, 5, 2, 2)\n",
      "(40,)\n"
     ]
    }
   ],
   "source": [
    "# reshape con el comodin -1\n",
    "print('reshape con el comodin -1,2')\n",
    "print(arr_una_dim.shape)\n",
    "resha_arr_una_dim_comodin = arr_una_dim.reshape(-1,2)\n",
    "print(resha_arr_una_dim_comodin.shape)\n",
    "\n",
    "# Volviendo a una dimensión\n",
    "print('volviendo a una dimensión')\n",
    "print(resha_arr_tres_dim.shape)\n",
    "print(resha_arr_tres_dim.reshape(-1).shape)\n"
   ]
  },
  {
   "cell_type": "code",
   "execution_count": 36,
   "metadata": {},
   "outputs": [
    {
     "name": "stdout",
     "output_type": "stream",
     "text": [
      "iterando una dimension con un for\n",
      "viendo el dato: 1 <class 'numpy.int64'>\n",
      "viendo el dato: 2 <class 'numpy.int64'>\n",
      "viendo el dato: 3 <class 'numpy.int64'>\n",
      "viendo el dato: 4 <class 'numpy.int64'>\n",
      "viendo el dato: 5 <class 'numpy.int64'>\n",
      "viendo el dato: 6 <class 'numpy.int64'>\n",
      "viendo el dato: 7 <class 'numpy.int64'>\n",
      "viendo el dato: 8 <class 'numpy.int64'>\n",
      "viendo el dato: 9 <class 'numpy.int64'>\n",
      "viendo el dato: 10 <class 'numpy.int64'>\n"
     ]
    }
   ],
   "source": [
    "# iterando una dimension con un for\n",
    "print('iterando una dimension con un for')\n",
    "for dato in arr_una_dim:\n",
    "    print('viendo el dato: {} {}'.format(dato,type(dato)))\n",
    "    time.sleep(1)\n"
   ]
  },
  {
   "cell_type": "code",
   "execution_count": 41,
   "metadata": {},
   "outputs": [
    {
     "name": "stdout",
     "output_type": "stream",
     "text": [
      "iterando dos dimensiones con un for\n",
      "(2, 10)\n",
      "[[ 1  2  3  4  5  6  7  8  9 10]\n",
      " [11 12 13 14 15 16 17 18 19 20]]\n",
      "viendo la fila: [ 1  2  3  4  5  6  7  8  9 10] <class 'numpy.ndarray'>\n",
      "viendo la columna: 1 <class 'numpy.int64'>\n",
      "viendo la columna: 2 <class 'numpy.int64'>\n",
      "viendo la columna: 3 <class 'numpy.int64'>\n",
      "viendo la columna: 4 <class 'numpy.int64'>\n",
      "viendo la columna: 5 <class 'numpy.int64'>\n",
      "viendo la columna: 6 <class 'numpy.int64'>\n",
      "viendo la columna: 7 <class 'numpy.int64'>\n",
      "viendo la columna: 8 <class 'numpy.int64'>\n",
      "viendo la columna: 9 <class 'numpy.int64'>\n",
      "viendo la columna: 10 <class 'numpy.int64'>\n",
      "viendo la fila: [11 12 13 14 15 16 17 18 19 20] <class 'numpy.ndarray'>\n",
      "viendo la columna: 11 <class 'numpy.int64'>\n",
      "viendo la columna: 12 <class 'numpy.int64'>\n",
      "viendo la columna: 13 <class 'numpy.int64'>\n",
      "viendo la columna: 14 <class 'numpy.int64'>\n",
      "viendo la columna: 15 <class 'numpy.int64'>\n",
      "viendo la columna: 16 <class 'numpy.int64'>\n",
      "viendo la columna: 17 <class 'numpy.int64'>\n",
      "viendo la columna: 18 <class 'numpy.int64'>\n",
      "viendo la columna: 19 <class 'numpy.int64'>\n",
      "viendo la columna: 20 <class 'numpy.int64'>\n"
     ]
    }
   ],
   "source": [
    "# iterando dos dimensiones con un for\n",
    "print('iterando dos dimensiones con un for')\n",
    "print(arr_dos_dim.shape)\n",
    "print(arr_dos_dim)\n",
    "for fila in arr_dos_dim:\n",
    "    print('viendo la fila: {} {}'.format(fila,type(fila)))\n",
    "    for columna in fila:\n",
    "        print('viendo la columna: {} {}'.format(columna,type(columna)))\n",
    "        # time.sleep(1)\n"
   ]
  },
  {
   "cell_type": "code",
   "execution_count": 43,
   "metadata": {},
   "outputs": [
    {
     "name": "stdout",
     "output_type": "stream",
     "text": [
      "iterando tres dimensiones con un for\n",
      "(2, 2, 10)\n",
      "[[[ 1  2  3  4  5  6  7  8  9 10]\n",
      "  [11 12 13 14 15 16 17 18 19 20]]\n",
      "\n",
      " [[21 22 23 24 25 26 27 28 29 30]\n",
      "  [31 32 33 34 35 36 37 38 39 40]]]\n",
      "viendo la fila: [[ 1  2  3  4  5  6  7  8  9 10]\n",
      " [11 12 13 14 15 16 17 18 19 20]] <class 'numpy.ndarray'>\n",
      "viendo la columna: [ 1  2  3  4  5  6  7  8  9 10] <class 'numpy.ndarray'>\n",
      "viendo el vertice: 1 <class 'numpy.int64'>\n",
      "viendo el vertice: 2 <class 'numpy.int64'>\n",
      "viendo el vertice: 3 <class 'numpy.int64'>\n",
      "viendo el vertice: 4 <class 'numpy.int64'>\n",
      "viendo el vertice: 5 <class 'numpy.int64'>\n",
      "viendo el vertice: 6 <class 'numpy.int64'>\n",
      "viendo el vertice: 7 <class 'numpy.int64'>\n",
      "viendo el vertice: 8 <class 'numpy.int64'>\n",
      "viendo el vertice: 9 <class 'numpy.int64'>\n",
      "viendo el vertice: 10 <class 'numpy.int64'>\n",
      "viendo la columna: [11 12 13 14 15 16 17 18 19 20] <class 'numpy.ndarray'>\n",
      "viendo el vertice: 11 <class 'numpy.int64'>\n",
      "viendo el vertice: 12 <class 'numpy.int64'>\n",
      "viendo el vertice: 13 <class 'numpy.int64'>\n",
      "viendo el vertice: 14 <class 'numpy.int64'>\n",
      "viendo el vertice: 15 <class 'numpy.int64'>\n",
      "viendo el vertice: 16 <class 'numpy.int64'>\n",
      "viendo el vertice: 17 <class 'numpy.int64'>\n",
      "viendo el vertice: 18 <class 'numpy.int64'>\n",
      "viendo el vertice: 19 <class 'numpy.int64'>\n",
      "viendo el vertice: 20 <class 'numpy.int64'>\n",
      "viendo la fila: [[21 22 23 24 25 26 27 28 29 30]\n",
      " [31 32 33 34 35 36 37 38 39 40]] <class 'numpy.ndarray'>\n",
      "viendo la columna: [21 22 23 24 25 26 27 28 29 30] <class 'numpy.ndarray'>\n",
      "viendo el vertice: 21 <class 'numpy.int64'>\n",
      "viendo el vertice: 22 <class 'numpy.int64'>\n",
      "viendo el vertice: 23 <class 'numpy.int64'>\n",
      "viendo el vertice: 24 <class 'numpy.int64'>\n",
      "viendo el vertice: 25 <class 'numpy.int64'>\n",
      "viendo el vertice: 26 <class 'numpy.int64'>\n",
      "viendo el vertice: 27 <class 'numpy.int64'>\n",
      "viendo el vertice: 28 <class 'numpy.int64'>\n",
      "viendo el vertice: 29 <class 'numpy.int64'>\n",
      "viendo el vertice: 30 <class 'numpy.int64'>\n",
      "viendo la columna: [31 32 33 34 35 36 37 38 39 40] <class 'numpy.ndarray'>\n",
      "viendo el vertice: 31 <class 'numpy.int64'>\n",
      "viendo el vertice: 32 <class 'numpy.int64'>\n",
      "viendo el vertice: 33 <class 'numpy.int64'>\n",
      "viendo el vertice: 34 <class 'numpy.int64'>\n",
      "viendo el vertice: 35 <class 'numpy.int64'>\n",
      "viendo el vertice: 36 <class 'numpy.int64'>\n",
      "viendo el vertice: 37 <class 'numpy.int64'>\n",
      "viendo el vertice: 38 <class 'numpy.int64'>\n",
      "viendo el vertice: 39 <class 'numpy.int64'>\n",
      "viendo el vertice: 40 <class 'numpy.int64'>\n"
     ]
    }
   ],
   "source": [
    "# iterando tres dimensiones con un for\n",
    "print('iterando tres dimensiones con un for')\n",
    "print(arr_tres_dim.shape)\n",
    "print(arr_tres_dim)\n",
    "for fila in arr_tres_dim:\n",
    "    print('viendo la fila: {} {}'.format(fila,type(fila)))\n",
    "    for columna in fila:\n",
    "        print('viendo la columna: {} {}'.format(columna,type(columna)))\n",
    "        for vertice in columna:\n",
    "            print('viendo el vertice: {} {}'.format(vertice,type(vertice)))\n",
    "            time.sleep(0.2)"
   ]
  },
  {
   "cell_type": "code",
   "execution_count": 45,
   "metadata": {},
   "outputs": [
    {
     "name": "stdout",
     "output_type": "stream",
     "text": [
      "iterando una dimension con for cambiando el shape\n",
      "(2, 2, 10)\n",
      "[[[ 1  2  3  4  5  6  7  8  9 10]\n",
      "  [11 12 13 14 15 16 17 18 19 20]]\n",
      "\n",
      " [[21 22 23 24 25 26 27 28 29 30]\n",
      "  [31 32 33 34 35 36 37 38 39 40]]]\n",
      "viendo el dato: 1 <class 'numpy.int64'>\n",
      "viendo el dato: 2 <class 'numpy.int64'>\n",
      "viendo el dato: 3 <class 'numpy.int64'>\n",
      "viendo el dato: 4 <class 'numpy.int64'>\n",
      "viendo el dato: 5 <class 'numpy.int64'>\n",
      "viendo el dato: 6 <class 'numpy.int64'>\n",
      "viendo el dato: 7 <class 'numpy.int64'>\n",
      "viendo el dato: 8 <class 'numpy.int64'>\n",
      "viendo el dato: 9 <class 'numpy.int64'>\n",
      "viendo el dato: 10 <class 'numpy.int64'>\n",
      "viendo el dato: 11 <class 'numpy.int64'>\n",
      "viendo el dato: 12 <class 'numpy.int64'>\n",
      "viendo el dato: 13 <class 'numpy.int64'>\n",
      "viendo el dato: 14 <class 'numpy.int64'>\n",
      "viendo el dato: 15 <class 'numpy.int64'>\n",
      "viendo el dato: 16 <class 'numpy.int64'>\n",
      "viendo el dato: 17 <class 'numpy.int64'>\n",
      "viendo el dato: 18 <class 'numpy.int64'>\n",
      "viendo el dato: 19 <class 'numpy.int64'>\n",
      "viendo el dato: 20 <class 'numpy.int64'>\n",
      "viendo el dato: 21 <class 'numpy.int64'>\n",
      "viendo el dato: 22 <class 'numpy.int64'>\n",
      "viendo el dato: 23 <class 'numpy.int64'>\n",
      "viendo el dato: 24 <class 'numpy.int64'>\n",
      "viendo el dato: 25 <class 'numpy.int64'>\n",
      "viendo el dato: 26 <class 'numpy.int64'>\n",
      "viendo el dato: 27 <class 'numpy.int64'>\n",
      "viendo el dato: 28 <class 'numpy.int64'>\n",
      "viendo el dato: 29 <class 'numpy.int64'>\n",
      "viendo el dato: 30 <class 'numpy.int64'>\n",
      "viendo el dato: 31 <class 'numpy.int64'>\n",
      "viendo el dato: 32 <class 'numpy.int64'>\n",
      "viendo el dato: 33 <class 'numpy.int64'>\n",
      "viendo el dato: 34 <class 'numpy.int64'>\n",
      "viendo el dato: 35 <class 'numpy.int64'>\n",
      "viendo el dato: 36 <class 'numpy.int64'>\n",
      "viendo el dato: 37 <class 'numpy.int64'>\n",
      "viendo el dato: 38 <class 'numpy.int64'>\n",
      "viendo el dato: 39 <class 'numpy.int64'>\n",
      "viendo el dato: 40 <class 'numpy.int64'>\n"
     ]
    }
   ],
   "source": [
    "# iterando una dimension con for cambiando el shape\n",
    "print('iterando una dimension con for cambiando el shape')\n",
    "print(arr_tres_dim.shape)\n",
    "print(arr_tres_dim)\n",
    "for dato in arr_tres_dim.reshape(-1):\n",
    "    print('viendo el dato: {} {}'.format(dato,type(dato)))\n",
    "    time.sleep(0.5)"
   ]
  },
  {
   "cell_type": "code",
   "execution_count": 46,
   "metadata": {},
   "outputs": [
    {
     "name": "stdout",
     "output_type": "stream",
     "text": [
      "iterando con nditer\n",
      "(2, 2, 10)\n",
      "[[[ 1  2  3  4  5  6  7  8  9 10]\n",
      "  [11 12 13 14 15 16 17 18 19 20]]\n",
      "\n",
      " [[21 22 23 24 25 26 27 28 29 30]\n",
      "  [31 32 33 34 35 36 37 38 39 40]]]\n",
      "viendo el dato: 1 <class 'numpy.ndarray'>\n",
      "viendo el dato: 2 <class 'numpy.ndarray'>\n",
      "viendo el dato: 3 <class 'numpy.ndarray'>\n",
      "viendo el dato: 4 <class 'numpy.ndarray'>\n",
      "viendo el dato: 5 <class 'numpy.ndarray'>\n",
      "viendo el dato: 6 <class 'numpy.ndarray'>\n",
      "viendo el dato: 7 <class 'numpy.ndarray'>\n",
      "viendo el dato: 8 <class 'numpy.ndarray'>\n",
      "viendo el dato: 9 <class 'numpy.ndarray'>\n",
      "viendo el dato: 10 <class 'numpy.ndarray'>\n",
      "viendo el dato: 11 <class 'numpy.ndarray'>\n",
      "viendo el dato: 12 <class 'numpy.ndarray'>\n",
      "viendo el dato: 13 <class 'numpy.ndarray'>\n",
      "viendo el dato: 14 <class 'numpy.ndarray'>\n",
      "viendo el dato: 15 <class 'numpy.ndarray'>\n",
      "viendo el dato: 16 <class 'numpy.ndarray'>\n",
      "viendo el dato: 17 <class 'numpy.ndarray'>\n",
      "viendo el dato: 18 <class 'numpy.ndarray'>\n",
      "viendo el dato: 19 <class 'numpy.ndarray'>\n",
      "viendo el dato: 20 <class 'numpy.ndarray'>\n",
      "viendo el dato: 21 <class 'numpy.ndarray'>\n",
      "viendo el dato: 22 <class 'numpy.ndarray'>\n",
      "viendo el dato: 23 <class 'numpy.ndarray'>\n",
      "viendo el dato: 24 <class 'numpy.ndarray'>\n",
      "viendo el dato: 25 <class 'numpy.ndarray'>\n",
      "viendo el dato: 26 <class 'numpy.ndarray'>\n",
      "viendo el dato: 27 <class 'numpy.ndarray'>\n",
      "viendo el dato: 28 <class 'numpy.ndarray'>\n",
      "viendo el dato: 29 <class 'numpy.ndarray'>\n",
      "viendo el dato: 30 <class 'numpy.ndarray'>\n",
      "viendo el dato: 31 <class 'numpy.ndarray'>\n",
      "viendo el dato: 32 <class 'numpy.ndarray'>\n",
      "viendo el dato: 33 <class 'numpy.ndarray'>\n",
      "viendo el dato: 34 <class 'numpy.ndarray'>\n",
      "viendo el dato: 35 <class 'numpy.ndarray'>\n",
      "viendo el dato: 36 <class 'numpy.ndarray'>\n",
      "viendo el dato: 37 <class 'numpy.ndarray'>\n",
      "viendo el dato: 38 <class 'numpy.ndarray'>\n",
      "viendo el dato: 39 <class 'numpy.ndarray'>\n",
      "viendo el dato: 40 <class 'numpy.ndarray'>\n"
     ]
    }
   ],
   "source": [
    "# iterando con nditer\n",
    "print('iterando con nditer')\n",
    "print(arr_tres_dim.shape)\n",
    "print(arr_tres_dim)\n",
    "for dato in np.nditer(arr_tres_dim):\n",
    "    print('viendo el dato: {} {}'.format(dato,type(dato)))\n",
    "    time.sleep(0.5)"
   ]
  },
  {
   "cell_type": "code",
   "execution_count": 48,
   "metadata": {},
   "outputs": [
    {
     "name": "stdout",
     "output_type": "stream",
     "text": [
      "iterando con ednumerate\n",
      "(2, 10)\n",
      "[[ 1  2  3  4  5  6  7  8  9 10]\n",
      " [11 12 13 14 15 16 17 18 19 20]]\n",
      "∞∞∞∞∞∞∞∞∞∞∞∞∞∞∞∞∞∞∞∞∞∞∞∞∞∞∞∞∞∞∞∞∞∞∞∞∞∞∞∞∞∞∞∞∞∞∞∞∞∞∞∞\n",
      "viendo el indice: (0, 0) <class 'tuple'>\n",
      "viendo el dato: 1 <class 'numpy.int64'>\n",
      "∞∞∞∞∞∞∞∞∞∞∞∞∞∞∞∞∞∞∞∞∞∞∞∞∞∞∞∞∞∞∞∞∞∞∞∞∞∞∞∞∞∞∞∞∞∞∞∞∞∞∞∞\n",
      "viendo el indice: (0, 1) <class 'tuple'>\n",
      "viendo el dato: 2 <class 'numpy.int64'>\n",
      "∞∞∞∞∞∞∞∞∞∞∞∞∞∞∞∞∞∞∞∞∞∞∞∞∞∞∞∞∞∞∞∞∞∞∞∞∞∞∞∞∞∞∞∞∞∞∞∞∞∞∞∞\n",
      "viendo el indice: (0, 2) <class 'tuple'>\n",
      "viendo el dato: 3 <class 'numpy.int64'>\n",
      "∞∞∞∞∞∞∞∞∞∞∞∞∞∞∞∞∞∞∞∞∞∞∞∞∞∞∞∞∞∞∞∞∞∞∞∞∞∞∞∞∞∞∞∞∞∞∞∞∞∞∞∞\n",
      "viendo el indice: (0, 3) <class 'tuple'>\n",
      "viendo el dato: 4 <class 'numpy.int64'>\n",
      "∞∞∞∞∞∞∞∞∞∞∞∞∞∞∞∞∞∞∞∞∞∞∞∞∞∞∞∞∞∞∞∞∞∞∞∞∞∞∞∞∞∞∞∞∞∞∞∞∞∞∞∞\n",
      "viendo el indice: (0, 4) <class 'tuple'>\n",
      "viendo el dato: 5 <class 'numpy.int64'>\n",
      "∞∞∞∞∞∞∞∞∞∞∞∞∞∞∞∞∞∞∞∞∞∞∞∞∞∞∞∞∞∞∞∞∞∞∞∞∞∞∞∞∞∞∞∞∞∞∞∞∞∞∞∞\n",
      "viendo el indice: (0, 5) <class 'tuple'>\n",
      "viendo el dato: 6 <class 'numpy.int64'>\n",
      "∞∞∞∞∞∞∞∞∞∞∞∞∞∞∞∞∞∞∞∞∞∞∞∞∞∞∞∞∞∞∞∞∞∞∞∞∞∞∞∞∞∞∞∞∞∞∞∞∞∞∞∞\n",
      "viendo el indice: (0, 6) <class 'tuple'>\n",
      "viendo el dato: 7 <class 'numpy.int64'>\n",
      "∞∞∞∞∞∞∞∞∞∞∞∞∞∞∞∞∞∞∞∞∞∞∞∞∞∞∞∞∞∞∞∞∞∞∞∞∞∞∞∞∞∞∞∞∞∞∞∞∞∞∞∞\n",
      "viendo el indice: (0, 7) <class 'tuple'>\n",
      "viendo el dato: 8 <class 'numpy.int64'>\n",
      "∞∞∞∞∞∞∞∞∞∞∞∞∞∞∞∞∞∞∞∞∞∞∞∞∞∞∞∞∞∞∞∞∞∞∞∞∞∞∞∞∞∞∞∞∞∞∞∞∞∞∞∞\n",
      "viendo el indice: (0, 8) <class 'tuple'>\n",
      "viendo el dato: 9 <class 'numpy.int64'>\n",
      "∞∞∞∞∞∞∞∞∞∞∞∞∞∞∞∞∞∞∞∞∞∞∞∞∞∞∞∞∞∞∞∞∞∞∞∞∞∞∞∞∞∞∞∞∞∞∞∞∞∞∞∞\n",
      "viendo el indice: (0, 9) <class 'tuple'>\n",
      "viendo el dato: 10 <class 'numpy.int64'>\n",
      "∞∞∞∞∞∞∞∞∞∞∞∞∞∞∞∞∞∞∞∞∞∞∞∞∞∞∞∞∞∞∞∞∞∞∞∞∞∞∞∞∞∞∞∞∞∞∞∞∞∞∞∞\n",
      "viendo el indice: (1, 0) <class 'tuple'>\n",
      "viendo el dato: 11 <class 'numpy.int64'>\n",
      "∞∞∞∞∞∞∞∞∞∞∞∞∞∞∞∞∞∞∞∞∞∞∞∞∞∞∞∞∞∞∞∞∞∞∞∞∞∞∞∞∞∞∞∞∞∞∞∞∞∞∞∞\n",
      "viendo el indice: (1, 1) <class 'tuple'>\n",
      "viendo el dato: 12 <class 'numpy.int64'>\n",
      "∞∞∞∞∞∞∞∞∞∞∞∞∞∞∞∞∞∞∞∞∞∞∞∞∞∞∞∞∞∞∞∞∞∞∞∞∞∞∞∞∞∞∞∞∞∞∞∞∞∞∞∞\n",
      "viendo el indice: (1, 2) <class 'tuple'>\n",
      "viendo el dato: 13 <class 'numpy.int64'>\n",
      "∞∞∞∞∞∞∞∞∞∞∞∞∞∞∞∞∞∞∞∞∞∞∞∞∞∞∞∞∞∞∞∞∞∞∞∞∞∞∞∞∞∞∞∞∞∞∞∞∞∞∞∞\n",
      "viendo el indice: (1, 3) <class 'tuple'>\n",
      "viendo el dato: 14 <class 'numpy.int64'>\n",
      "∞∞∞∞∞∞∞∞∞∞∞∞∞∞∞∞∞∞∞∞∞∞∞∞∞∞∞∞∞∞∞∞∞∞∞∞∞∞∞∞∞∞∞∞∞∞∞∞∞∞∞∞\n",
      "viendo el indice: (1, 4) <class 'tuple'>\n",
      "viendo el dato: 15 <class 'numpy.int64'>\n",
      "∞∞∞∞∞∞∞∞∞∞∞∞∞∞∞∞∞∞∞∞∞∞∞∞∞∞∞∞∞∞∞∞∞∞∞∞∞∞∞∞∞∞∞∞∞∞∞∞∞∞∞∞\n",
      "viendo el indice: (1, 5) <class 'tuple'>\n",
      "viendo el dato: 16 <class 'numpy.int64'>\n",
      "∞∞∞∞∞∞∞∞∞∞∞∞∞∞∞∞∞∞∞∞∞∞∞∞∞∞∞∞∞∞∞∞∞∞∞∞∞∞∞∞∞∞∞∞∞∞∞∞∞∞∞∞\n",
      "viendo el indice: (1, 6) <class 'tuple'>\n",
      "viendo el dato: 17 <class 'numpy.int64'>\n",
      "∞∞∞∞∞∞∞∞∞∞∞∞∞∞∞∞∞∞∞∞∞∞∞∞∞∞∞∞∞∞∞∞∞∞∞∞∞∞∞∞∞∞∞∞∞∞∞∞∞∞∞∞\n",
      "viendo el indice: (1, 7) <class 'tuple'>\n",
      "viendo el dato: 18 <class 'numpy.int64'>\n",
      "∞∞∞∞∞∞∞∞∞∞∞∞∞∞∞∞∞∞∞∞∞∞∞∞∞∞∞∞∞∞∞∞∞∞∞∞∞∞∞∞∞∞∞∞∞∞∞∞∞∞∞∞\n",
      "viendo el indice: (1, 8) <class 'tuple'>\n",
      "viendo el dato: 19 <class 'numpy.int64'>\n",
      "∞∞∞∞∞∞∞∞∞∞∞∞∞∞∞∞∞∞∞∞∞∞∞∞∞∞∞∞∞∞∞∞∞∞∞∞∞∞∞∞∞∞∞∞∞∞∞∞∞∞∞∞\n",
      "viendo el indice: (1, 9) <class 'tuple'>\n",
      "viendo el dato: 20 <class 'numpy.int64'>\n"
     ]
    }
   ],
   "source": [
    "# iterando dos dimensiones con ednumerate\n",
    "print('iterando dos dimensiones con ednumerate')\n",
    "print(arr_dos_dim.shape)\n",
    "print(arr_dos_dim)\n",
    "for indice,dato in np.ndenumerate(arr_dos_dim):\n",
    "    print('∞∞∞∞∞∞∞∞∞∞∞∞∞∞∞∞∞∞∞∞∞∞∞∞∞∞∞∞∞∞∞∞∞∞∞∞∞∞∞∞∞∞∞∞∞∞∞∞∞∞∞∞')\n",
    "    print('viendo el indice: {} {}'.format(indice,type(indice)))\n",
    "    print('viendo el dato: {} {}'.format(dato,type(dato)))\n",
    "    time.sleep(0.5)"
   ]
  },
  {
   "cell_type": "code",
   "execution_count": 50,
   "metadata": {},
   "outputs": [
    {
     "name": "stdout",
     "output_type": "stream",
     "text": [
      "iterando tres dimensiones con ednumerate\n",
      "(2, 2, 10)\n",
      "[[[ 1  2  3  4  5  6  7  8  9 10]\n",
      "  [11 12 13 14 15 16 17 18 19 20]]\n",
      "\n",
      " [[21 22 23 24 25 26 27 28 29 30]\n",
      "  [31 32 33 34 35 36 37 38 39 40]]]\n",
      "∞∞∞∞∞∞∞∞∞∞∞∞∞∞∞∞∞∞∞∞∞∞∞∞∞∞∞∞∞∞∞∞∞∞∞∞∞∞∞∞∞∞∞∞∞∞∞∞∞∞∞∞\n",
      "viendo el indice: (0, 0, 0) <class 'tuple'>\n",
      "viendo el dato: 1 <class 'numpy.int64'>\n",
      "∞∞∞∞∞∞∞∞∞∞∞∞∞∞∞∞∞∞∞∞∞∞∞∞∞∞∞∞∞∞∞∞∞∞∞∞∞∞∞∞∞∞∞∞∞∞∞∞∞∞∞∞\n",
      "viendo el indice: (0, 0, 1) <class 'tuple'>\n",
      "viendo el dato: 2 <class 'numpy.int64'>\n",
      "∞∞∞∞∞∞∞∞∞∞∞∞∞∞∞∞∞∞∞∞∞∞∞∞∞∞∞∞∞∞∞∞∞∞∞∞∞∞∞∞∞∞∞∞∞∞∞∞∞∞∞∞\n",
      "viendo el indice: (0, 0, 2) <class 'tuple'>\n",
      "viendo el dato: 3 <class 'numpy.int64'>\n",
      "∞∞∞∞∞∞∞∞∞∞∞∞∞∞∞∞∞∞∞∞∞∞∞∞∞∞∞∞∞∞∞∞∞∞∞∞∞∞∞∞∞∞∞∞∞∞∞∞∞∞∞∞\n",
      "viendo el indice: (0, 0, 3) <class 'tuple'>\n",
      "viendo el dato: 4 <class 'numpy.int64'>\n",
      "∞∞∞∞∞∞∞∞∞∞∞∞∞∞∞∞∞∞∞∞∞∞∞∞∞∞∞∞∞∞∞∞∞∞∞∞∞∞∞∞∞∞∞∞∞∞∞∞∞∞∞∞\n",
      "viendo el indice: (0, 0, 4) <class 'tuple'>\n",
      "viendo el dato: 5 <class 'numpy.int64'>\n",
      "∞∞∞∞∞∞∞∞∞∞∞∞∞∞∞∞∞∞∞∞∞∞∞∞∞∞∞∞∞∞∞∞∞∞∞∞∞∞∞∞∞∞∞∞∞∞∞∞∞∞∞∞\n",
      "viendo el indice: (0, 0, 5) <class 'tuple'>\n",
      "viendo el dato: 6 <class 'numpy.int64'>\n",
      "∞∞∞∞∞∞∞∞∞∞∞∞∞∞∞∞∞∞∞∞∞∞∞∞∞∞∞∞∞∞∞∞∞∞∞∞∞∞∞∞∞∞∞∞∞∞∞∞∞∞∞∞\n",
      "viendo el indice: (0, 0, 6) <class 'tuple'>\n",
      "viendo el dato: 7 <class 'numpy.int64'>\n",
      "∞∞∞∞∞∞∞∞∞∞∞∞∞∞∞∞∞∞∞∞∞∞∞∞∞∞∞∞∞∞∞∞∞∞∞∞∞∞∞∞∞∞∞∞∞∞∞∞∞∞∞∞\n",
      "viendo el indice: (0, 0, 7) <class 'tuple'>\n",
      "viendo el dato: 8 <class 'numpy.int64'>\n",
      "∞∞∞∞∞∞∞∞∞∞∞∞∞∞∞∞∞∞∞∞∞∞∞∞∞∞∞∞∞∞∞∞∞∞∞∞∞∞∞∞∞∞∞∞∞∞∞∞∞∞∞∞\n",
      "viendo el indice: (0, 0, 8) <class 'tuple'>\n",
      "viendo el dato: 9 <class 'numpy.int64'>\n",
      "∞∞∞∞∞∞∞∞∞∞∞∞∞∞∞∞∞∞∞∞∞∞∞∞∞∞∞∞∞∞∞∞∞∞∞∞∞∞∞∞∞∞∞∞∞∞∞∞∞∞∞∞\n",
      "viendo el indice: (0, 0, 9) <class 'tuple'>\n",
      "viendo el dato: 10 <class 'numpy.int64'>\n",
      "∞∞∞∞∞∞∞∞∞∞∞∞∞∞∞∞∞∞∞∞∞∞∞∞∞∞∞∞∞∞∞∞∞∞∞∞∞∞∞∞∞∞∞∞∞∞∞∞∞∞∞∞\n",
      "viendo el indice: (0, 1, 0) <class 'tuple'>\n",
      "viendo el dato: 11 <class 'numpy.int64'>\n",
      "∞∞∞∞∞∞∞∞∞∞∞∞∞∞∞∞∞∞∞∞∞∞∞∞∞∞∞∞∞∞∞∞∞∞∞∞∞∞∞∞∞∞∞∞∞∞∞∞∞∞∞∞\n",
      "viendo el indice: (0, 1, 1) <class 'tuple'>\n",
      "viendo el dato: 12 <class 'numpy.int64'>\n",
      "∞∞∞∞∞∞∞∞∞∞∞∞∞∞∞∞∞∞∞∞∞∞∞∞∞∞∞∞∞∞∞∞∞∞∞∞∞∞∞∞∞∞∞∞∞∞∞∞∞∞∞∞\n",
      "viendo el indice: (0, 1, 2) <class 'tuple'>\n",
      "viendo el dato: 13 <class 'numpy.int64'>\n",
      "∞∞∞∞∞∞∞∞∞∞∞∞∞∞∞∞∞∞∞∞∞∞∞∞∞∞∞∞∞∞∞∞∞∞∞∞∞∞∞∞∞∞∞∞∞∞∞∞∞∞∞∞\n",
      "viendo el indice: (0, 1, 3) <class 'tuple'>\n",
      "viendo el dato: 14 <class 'numpy.int64'>\n",
      "∞∞∞∞∞∞∞∞∞∞∞∞∞∞∞∞∞∞∞∞∞∞∞∞∞∞∞∞∞∞∞∞∞∞∞∞∞∞∞∞∞∞∞∞∞∞∞∞∞∞∞∞\n",
      "viendo el indice: (0, 1, 4) <class 'tuple'>\n",
      "viendo el dato: 15 <class 'numpy.int64'>\n",
      "∞∞∞∞∞∞∞∞∞∞∞∞∞∞∞∞∞∞∞∞∞∞∞∞∞∞∞∞∞∞∞∞∞∞∞∞∞∞∞∞∞∞∞∞∞∞∞∞∞∞∞∞\n",
      "viendo el indice: (0, 1, 5) <class 'tuple'>\n",
      "viendo el dato: 16 <class 'numpy.int64'>\n",
      "∞∞∞∞∞∞∞∞∞∞∞∞∞∞∞∞∞∞∞∞∞∞∞∞∞∞∞∞∞∞∞∞∞∞∞∞∞∞∞∞∞∞∞∞∞∞∞∞∞∞∞∞\n",
      "viendo el indice: (0, 1, 6) <class 'tuple'>\n",
      "viendo el dato: 17 <class 'numpy.int64'>\n",
      "∞∞∞∞∞∞∞∞∞∞∞∞∞∞∞∞∞∞∞∞∞∞∞∞∞∞∞∞∞∞∞∞∞∞∞∞∞∞∞∞∞∞∞∞∞∞∞∞∞∞∞∞\n",
      "viendo el indice: (0, 1, 7) <class 'tuple'>\n",
      "viendo el dato: 18 <class 'numpy.int64'>\n",
      "∞∞∞∞∞∞∞∞∞∞∞∞∞∞∞∞∞∞∞∞∞∞∞∞∞∞∞∞∞∞∞∞∞∞∞∞∞∞∞∞∞∞∞∞∞∞∞∞∞∞∞∞\n",
      "viendo el indice: (0, 1, 8) <class 'tuple'>\n",
      "viendo el dato: 19 <class 'numpy.int64'>\n",
      "∞∞∞∞∞∞∞∞∞∞∞∞∞∞∞∞∞∞∞∞∞∞∞∞∞∞∞∞∞∞∞∞∞∞∞∞∞∞∞∞∞∞∞∞∞∞∞∞∞∞∞∞\n",
      "viendo el indice: (0, 1, 9) <class 'tuple'>\n",
      "viendo el dato: 20 <class 'numpy.int64'>\n",
      "∞∞∞∞∞∞∞∞∞∞∞∞∞∞∞∞∞∞∞∞∞∞∞∞∞∞∞∞∞∞∞∞∞∞∞∞∞∞∞∞∞∞∞∞∞∞∞∞∞∞∞∞\n",
      "viendo el indice: (1, 0, 0) <class 'tuple'>\n",
      "viendo el dato: 21 <class 'numpy.int64'>\n",
      "∞∞∞∞∞∞∞∞∞∞∞∞∞∞∞∞∞∞∞∞∞∞∞∞∞∞∞∞∞∞∞∞∞∞∞∞∞∞∞∞∞∞∞∞∞∞∞∞∞∞∞∞\n",
      "viendo el indice: (1, 0, 1) <class 'tuple'>\n",
      "viendo el dato: 22 <class 'numpy.int64'>\n",
      "∞∞∞∞∞∞∞∞∞∞∞∞∞∞∞∞∞∞∞∞∞∞∞∞∞∞∞∞∞∞∞∞∞∞∞∞∞∞∞∞∞∞∞∞∞∞∞∞∞∞∞∞\n",
      "viendo el indice: (1, 0, 2) <class 'tuple'>\n",
      "viendo el dato: 23 <class 'numpy.int64'>\n",
      "∞∞∞∞∞∞∞∞∞∞∞∞∞∞∞∞∞∞∞∞∞∞∞∞∞∞∞∞∞∞∞∞∞∞∞∞∞∞∞∞∞∞∞∞∞∞∞∞∞∞∞∞\n",
      "viendo el indice: (1, 0, 3) <class 'tuple'>\n",
      "viendo el dato: 24 <class 'numpy.int64'>\n",
      "∞∞∞∞∞∞∞∞∞∞∞∞∞∞∞∞∞∞∞∞∞∞∞∞∞∞∞∞∞∞∞∞∞∞∞∞∞∞∞∞∞∞∞∞∞∞∞∞∞∞∞∞\n",
      "viendo el indice: (1, 0, 4) <class 'tuple'>\n",
      "viendo el dato: 25 <class 'numpy.int64'>\n",
      "∞∞∞∞∞∞∞∞∞∞∞∞∞∞∞∞∞∞∞∞∞∞∞∞∞∞∞∞∞∞∞∞∞∞∞∞∞∞∞∞∞∞∞∞∞∞∞∞∞∞∞∞\n",
      "viendo el indice: (1, 0, 5) <class 'tuple'>\n",
      "viendo el dato: 26 <class 'numpy.int64'>\n",
      "∞∞∞∞∞∞∞∞∞∞∞∞∞∞∞∞∞∞∞∞∞∞∞∞∞∞∞∞∞∞∞∞∞∞∞∞∞∞∞∞∞∞∞∞∞∞∞∞∞∞∞∞\n",
      "viendo el indice: (1, 0, 6) <class 'tuple'>\n",
      "viendo el dato: 27 <class 'numpy.int64'>\n",
      "∞∞∞∞∞∞∞∞∞∞∞∞∞∞∞∞∞∞∞∞∞∞∞∞∞∞∞∞∞∞∞∞∞∞∞∞∞∞∞∞∞∞∞∞∞∞∞∞∞∞∞∞\n",
      "viendo el indice: (1, 0, 7) <class 'tuple'>\n",
      "viendo el dato: 28 <class 'numpy.int64'>\n",
      "∞∞∞∞∞∞∞∞∞∞∞∞∞∞∞∞∞∞∞∞∞∞∞∞∞∞∞∞∞∞∞∞∞∞∞∞∞∞∞∞∞∞∞∞∞∞∞∞∞∞∞∞\n",
      "viendo el indice: (1, 0, 8) <class 'tuple'>\n",
      "viendo el dato: 29 <class 'numpy.int64'>\n",
      "∞∞∞∞∞∞∞∞∞∞∞∞∞∞∞∞∞∞∞∞∞∞∞∞∞∞∞∞∞∞∞∞∞∞∞∞∞∞∞∞∞∞∞∞∞∞∞∞∞∞∞∞\n",
      "viendo el indice: (1, 0, 9) <class 'tuple'>\n",
      "viendo el dato: 30 <class 'numpy.int64'>\n",
      "∞∞∞∞∞∞∞∞∞∞∞∞∞∞∞∞∞∞∞∞∞∞∞∞∞∞∞∞∞∞∞∞∞∞∞∞∞∞∞∞∞∞∞∞∞∞∞∞∞∞∞∞\n",
      "viendo el indice: (1, 1, 0) <class 'tuple'>\n",
      "viendo el dato: 31 <class 'numpy.int64'>\n",
      "∞∞∞∞∞∞∞∞∞∞∞∞∞∞∞∞∞∞∞∞∞∞∞∞∞∞∞∞∞∞∞∞∞∞∞∞∞∞∞∞∞∞∞∞∞∞∞∞∞∞∞∞\n",
      "viendo el indice: (1, 1, 1) <class 'tuple'>\n",
      "viendo el dato: 32 <class 'numpy.int64'>\n",
      "∞∞∞∞∞∞∞∞∞∞∞∞∞∞∞∞∞∞∞∞∞∞∞∞∞∞∞∞∞∞∞∞∞∞∞∞∞∞∞∞∞∞∞∞∞∞∞∞∞∞∞∞\n",
      "viendo el indice: (1, 1, 2) <class 'tuple'>\n",
      "viendo el dato: 33 <class 'numpy.int64'>\n",
      "∞∞∞∞∞∞∞∞∞∞∞∞∞∞∞∞∞∞∞∞∞∞∞∞∞∞∞∞∞∞∞∞∞∞∞∞∞∞∞∞∞∞∞∞∞∞∞∞∞∞∞∞\n",
      "viendo el indice: (1, 1, 3) <class 'tuple'>\n",
      "viendo el dato: 34 <class 'numpy.int64'>\n",
      "∞∞∞∞∞∞∞∞∞∞∞∞∞∞∞∞∞∞∞∞∞∞∞∞∞∞∞∞∞∞∞∞∞∞∞∞∞∞∞∞∞∞∞∞∞∞∞∞∞∞∞∞\n",
      "viendo el indice: (1, 1, 4) <class 'tuple'>\n",
      "viendo el dato: 35 <class 'numpy.int64'>\n",
      "∞∞∞∞∞∞∞∞∞∞∞∞∞∞∞∞∞∞∞∞∞∞∞∞∞∞∞∞∞∞∞∞∞∞∞∞∞∞∞∞∞∞∞∞∞∞∞∞∞∞∞∞\n",
      "viendo el indice: (1, 1, 5) <class 'tuple'>\n",
      "viendo el dato: 36 <class 'numpy.int64'>\n",
      "∞∞∞∞∞∞∞∞∞∞∞∞∞∞∞∞∞∞∞∞∞∞∞∞∞∞∞∞∞∞∞∞∞∞∞∞∞∞∞∞∞∞∞∞∞∞∞∞∞∞∞∞\n",
      "viendo el indice: (1, 1, 6) <class 'tuple'>\n",
      "viendo el dato: 37 <class 'numpy.int64'>\n",
      "∞∞∞∞∞∞∞∞∞∞∞∞∞∞∞∞∞∞∞∞∞∞∞∞∞∞∞∞∞∞∞∞∞∞∞∞∞∞∞∞∞∞∞∞∞∞∞∞∞∞∞∞\n",
      "viendo el indice: (1, 1, 7) <class 'tuple'>\n",
      "viendo el dato: 38 <class 'numpy.int64'>\n",
      "∞∞∞∞∞∞∞∞∞∞∞∞∞∞∞∞∞∞∞∞∞∞∞∞∞∞∞∞∞∞∞∞∞∞∞∞∞∞∞∞∞∞∞∞∞∞∞∞∞∞∞∞\n",
      "viendo el indice: (1, 1, 8) <class 'tuple'>\n",
      "viendo el dato: 39 <class 'numpy.int64'>\n",
      "∞∞∞∞∞∞∞∞∞∞∞∞∞∞∞∞∞∞∞∞∞∞∞∞∞∞∞∞∞∞∞∞∞∞∞∞∞∞∞∞∞∞∞∞∞∞∞∞∞∞∞∞\n",
      "viendo el indice: (1, 1, 9) <class 'tuple'>\n",
      "viendo el dato: 40 <class 'numpy.int64'>\n"
     ]
    }
   ],
   "source": [
    "# iterando tres dimensiones con ednumerate\n",
    "print('iterando tres dimensiones con ednumerate')\n",
    "print(arr_tres_dim.shape)\n",
    "print(arr_tres_dim)\n",
    "for indice,dato in np.ndenumerate(arr_tres_dim):\n",
    "    print('∞∞∞∞∞∞∞∞∞∞∞∞∞∞∞∞∞∞∞∞∞∞∞∞∞∞∞∞∞∞∞∞∞∞∞∞∞∞∞∞∞∞∞∞∞∞∞∞∞∞∞∞')\n",
    "    print('viendo el indice: {} {}'.format(indice,type(indice)))\n",
    "    print('viendo el dato: {} {}'.format(dato,type(dato)))\n",
    "    time.sleep(0.5)"
   ]
  },
  {
   "cell_type": "code",
   "execution_count": 52,
   "metadata": {},
   "outputs": [
    {
     "name": "stdout",
     "output_type": "stream",
     "text": [
      "[91 82 33 74 92 12 13 45 34 63]\n"
     ]
    }
   ],
   "source": [
    "# concatenando nparreglos\n",
    "arreglo_uno = np.array([91,82,33,74,92])\n",
    "arreglo_dos = np.array([12,13,45,34,63])\n",
    "\n",
    "arreglo_concatenado = np.concatenate((arreglo_uno,arreglo_dos))\n",
    "print(arreglo_concatenado)"
   ]
  },
  {
   "cell_type": "code",
   "execution_count": 56,
   "metadata": {},
   "outputs": [
    {
     "name": "stdout",
     "output_type": "stream",
     "text": [
      "[91 82 33 74 92 12 13 45 34 63]\n"
     ]
    }
   ],
   "source": [
    "# concatenando nparreglos con axis = 0\n",
    "arreglo_concatenado = np.concatenate((arreglo_uno,arreglo_dos),axis=0)\n",
    "print(arreglo_concatenado)"
   ]
  },
  {
   "cell_type": "code",
   "execution_count": 71,
   "metadata": {},
   "outputs": [
    {
     "name": "stdout",
     "output_type": "stream",
     "text": [
      "shape de arreglo_dos_dim_uno: (2, 5)\n",
      "shape de arreglo_dos_dim_dos: (2, 5)\n",
      "[[ 1  2  3  4  5]\n",
      " [ 6  7  8  9 10]\n",
      " [11 12 13 14 15]\n",
      " [16 17 18 19 20]]\n",
      "(4, 5)\n",
      "∞∞∞∞∞∞∞∞∞∞∞∞∞∞∞∞∞∞∞∞∞∞∞∞∞∞∞∞∞∞∞∞∞∞∞∞∞∞∞∞∞∞∞\n",
      "(2, 10)\n",
      "[[[[[ 1]\n",
      "    [ 2]]\n",
      "\n",
      "   [[ 3]\n",
      "    [ 4]]\n",
      "\n",
      "   [[ 5]\n",
      "    [ 6]]\n",
      "\n",
      "   [[ 7]\n",
      "    [ 8]]\n",
      "\n",
      "   [[ 9]\n",
      "    [10]]]]]\n",
      "(1, 1, 5, 2, 1)\n",
      "(1, 1, 5, 2, 1)\n",
      "[[[[[ 1 11]\n",
      "    [ 2 12]]\n",
      "\n",
      "   [[ 3 13]\n",
      "    [ 4 14]]\n",
      "\n",
      "   [[ 5 15]\n",
      "    [ 6 16]]\n",
      "\n",
      "   [[ 7 17]\n",
      "    [ 8 18]]\n",
      "\n",
      "   [[ 9 19]\n",
      "    [10 20]]]]]\n",
      "(1, 1, 5, 2, 2)\n"
     ]
    }
   ],
   "source": [
    "# concatenando nparreglos con axis = 0\n",
    "arreglo_dos_dim_uno = np.array([[1,2,3,4,5],[6,7,8,9,10]])\n",
    "print('shape de arreglo_dos_dim_uno: {}'.format(arreglo_dos_dim_uno.shape))\n",
    "arreglo_dos_dim_dos = np.array([[11,12,13,14,15],[16,17,18,19,20]])\n",
    "print('shape de arreglo_dos_dim_dos: {}'.format(arreglo_dos_dim_dos.shape))\n",
    "\n",
    "arreglo_concat_axis0 = np.concatenate((arreglo_dos_dim_uno,arreglo_dos_dim_dos),axis=0)\n",
    "print(arreglo_concat_axis0)\n",
    "print(arreglo_concat_axis0.shape)\n",
    "\n",
    "print('∞∞∞∞∞∞∞∞∞∞∞∞∞∞∞∞∞∞∞∞∞∞∞∞∞∞∞∞∞∞∞∞∞∞∞∞∞∞∞∞∞∞∞')\n",
    "# concatenando nparreglos con axis = 1\n",
    "arreglo_concat_axis1 = np.concatenate((arreglo_dos_dim_uno,arreglo_dos_dim_dos),axis=1)\n",
    "#print(arreglo_concat_axis1)\n",
    "print(arreglo_concat_axis1.shape)\n",
    "\n",
    "\n",
    "# haciendo reshape para pasar a 5 dimensiones\n",
    "arr_cinco_dim_uno = arreglo_dos_dim_uno.reshape(1,1,5,2,1)\n",
    "print(arr_cinco_dim_uno)\n",
    "print(arr_cinco_dim_uno.shape)\n",
    "arr_cinco_dim_dos = arreglo_dos_dim_dos.reshape(1,1,5,2,1)\n",
    "print(arr_cinco_dim_dos.shape)\n",
    "\n",
    "# concatenando nparreglos con axis = 4\n",
    "arreglo_concat_axis4 = np.concatenate((arr_cinco_dim_uno,arr_cinco_dim_dos),axis=4)\n",
    "print(arreglo_concat_axis4)\n",
    "print(arreglo_concat_axis4.shape)\n"
   ]
  },
  {
   "cell_type": "code",
   "execution_count": 81,
   "metadata": {},
   "outputs": [
    {
     "name": "stdout",
     "output_type": "stream",
     "text": [
      "shape de arreglo_dos_dim_uno: (2, 5)\n",
      "shape de arreglo_dos_dim_dos: (2, 5)\n",
      "el shape de union con concatenate axis = 0: (4, 5)\n",
      "[[[ 1  2  3  4  5]\n",
      "  [ 6  7  8  9 10]]\n",
      "\n",
      " [[11 12 13 14 15]\n",
      "  [16 17 18 19 20]]]\n",
      "(2, 2, 5)\n",
      "[[[ 1  2  3  4  5]\n",
      "  [11 12 13 14 15]]\n",
      "\n",
      " [[ 6  7  8  9 10]\n",
      "  [16 17 18 19 20]]]\n",
      "(2, 2, 5)\n",
      "[[[ 1 11]\n",
      "  [ 2 12]\n",
      "  [ 3 13]\n",
      "  [ 4 14]\n",
      "  [ 5 15]]\n",
      "\n",
      " [[ 6 16]\n",
      "  [ 7 17]\n",
      "  [ 8 18]\n",
      "  [ 9 19]\n",
      "  [10 20]]]\n",
      "(2, 5, 2)\n"
     ]
    }
   ],
   "source": [
    "# uniendo nparreglos con np.stack\n",
    "print('shape de arreglo_dos_dim_uno: {}'.format(arreglo_dos_dim_uno.shape))\n",
    "print('shape de arreglo_dos_dim_dos: {}'.format(arreglo_dos_dim_dos.shape))\n",
    "print('el shape de union con concatenate axis = 0: {}'.format(arreglo_concat_axis0.shape))\n",
    "\n",
    "# uniendo nparreglos con np.stack axis = 0\n",
    "arreglo_stack_axis0 = np.stack((arreglo_dos_dim_uno,arreglo_dos_dim_dos),axis=0)\n",
    "print(arreglo_stack_axis0)\n",
    "print(arreglo_stack_axis0.shape)\n",
    "\n",
    "# uniendo nparreglos con np.stack axis = 1\n",
    "arreglo_stack_axis1 = np.stack((arreglo_dos_dim_uno,arreglo_dos_dim_dos),axis=1)\n",
    "print(arreglo_stack_axis1)\n",
    "print(arreglo_stack_axis1.shape)\n",
    "\n",
    "# uniendo nparreglos con np.stack axis = 2\n",
    "arreglo_stack_axis2 = np.stack((arreglo_dos_dim_uno,arreglo_dos_dim_dos),axis=2)\n",
    "print(arreglo_stack_axis2)\n",
    "print(arreglo_stack_axis2.shape)"
   ]
  },
  {
   "cell_type": "code",
   "execution_count": 82,
   "metadata": {},
   "outputs": [
    {
     "name": "stdout",
     "output_type": "stream",
     "text": [
      "[[ 1  2  3  4  5 11 12 13 14 15]\n",
      " [ 6  7  8  9 10 16 17 18 19 20]]\n",
      "(2, 10)\n",
      "[[ 1  2  3  4  5]\n",
      " [ 6  7  8  9 10]\n",
      " [11 12 13 14 15]\n",
      " [16 17 18 19 20]]\n",
      "(4, 5)\n"
     ]
    }
   ],
   "source": [
    "# uniendo nparreglos con np.hstack\n",
    "arreglo_hstack = np.hstack((arreglo_dos_dim_uno,arreglo_dos_dim_dos))\n",
    "print(arreglo_hstack)\n",
    "print(arreglo_hstack.shape)\n",
    "\n",
    "# uniendo nparreglos con np.vstack\n",
    "arreglo_vstack = np.vstack((arreglo_dos_dim_uno,arreglo_dos_dim_dos))\n",
    "print(arreglo_vstack)\n",
    "print(arreglo_vstack.shape)"
   ]
  },
  {
   "cell_type": "code",
   "execution_count": 85,
   "metadata": {},
   "outputs": [
    {
     "name": "stdout",
     "output_type": "stream",
     "text": [
      "operaciones algebraicas de numeros enteros con los nparreglos\n",
      "arreglo base\n",
      "[[ 1  2  3  4  5]\n",
      " [ 6  7  8  9 10]\n",
      " [11 12 13 14 15]\n",
      " [16 17 18 19 20]]\n",
      "arreglo_vstack + 2\n",
      "[[ 3  4  5  6  7]\n",
      " [ 8  9 10 11 12]\n",
      " [13 14 15 16 17]\n",
      " [18 19 20 21 22]]\n",
      "arreglo_vstack - 2\n",
      "[[-1  0  1  2  3]\n",
      " [ 4  5  6  7  8]\n",
      " [ 9 10 11 12 13]\n",
      " [14 15 16 17 18]]\n",
      "arreglo_vstack * 2\n",
      "[[ 2  4  6  8 10]\n",
      " [12 14 16 18 20]\n",
      " [22 24 26 28 30]\n",
      " [32 34 36 38 40]]\n"
     ]
    }
   ],
   "source": [
    "# operaciones algebraicas de numeros enteros con los nparreglos\n",
    "print('operaciones algebraicas de numeros enteros con los nparreglos')\n",
    "print('arreglo base')\n",
    "print(arreglo_vstack)\n",
    "\n",
    "print('arreglo_vstack + 2')\n",
    "print(arreglo_vstack+2)\n",
    "\n",
    "print('arreglo_vstack - 2')\n",
    "print(arreglo_vstack-2)\n",
    "\n",
    "print('arreglo_vstack * 2')\n",
    "print(arreglo_vstack*2)"
   ]
  },
  {
   "cell_type": "code",
   "execution_count": 93,
   "metadata": {},
   "outputs": [
    {
     "name": "stdout",
     "output_type": "stream",
     "text": [
      "aprendiendo a usar el where\n",
      "(array([0, 3, 5, 8, 9]),)\n",
      "corroborando el resultado de la busqueda\n",
      "[87 81 91 81 98]\n"
     ]
    }
   ],
   "source": [
    "# aprendiendo a usar el where\n",
    "print('aprendiendo a usar el where')\n",
    "\n",
    "arreglo = np.array([87,12,37,81,34,91,41,29,81,98])\n",
    "\n",
    "resultado_busqueda = np.where(arreglo>=81)\n",
    "print(resultado_busqueda)\n",
    "\n",
    "print('corroborando el resultado de la busqueda')\n",
    "print(arreglo[resultado_busqueda])\n",
    "\n"
   ]
  },
  {
   "cell_type": "code",
   "execution_count": 94,
   "metadata": {},
   "outputs": [
    {
     "name": "stdout",
     "output_type": "stream",
     "text": [
      "buscando todos los elementos que son multiplos de 3 en arreglo\n",
      "(array([0, 1, 3, 8]),)\n",
      "corroborando el resultado de la busqueda\n",
      "[87 12 81 81]\n"
     ]
    }
   ],
   "source": [
    "# buscando todos los elementos que son multiplos de 3 en arreglo\n",
    "print('buscando todos los elementos que son multiplos de 3 en arreglo')\n",
    "arreglo_multiplos_tres = np.where(arreglo%3==0)\n",
    "print(arreglo_multiplos_tres)\n",
    "\n",
    "print('corroborando el resultado de la busqueda')\n",
    "print(arreglo[arreglo_multiplos_tres])"
   ]
  },
  {
   "cell_type": "code",
   "execution_count": 95,
   "metadata": {},
   "outputs": [
    {
     "name": "stdout",
     "output_type": "stream",
     "text": [
      "ordenando los elementos de un arreglo\n",
      "['el' 'niño' 'se' 'cambio' 'de' 'casa' 'porque' 'no' 'le' 'gustaba' 'la'\n",
      " 'suya']\n",
      "['cambio' 'casa' 'de' 'el' 'gustaba' 'la' 'le' 'niño' 'no' 'porque' 'se'\n",
      " 'suya']\n"
     ]
    }
   ],
   "source": [
    "# ordenando los elementos de un arreglo\n",
    "print('ordenando los elementos de un arreglo')\n",
    "arreglo = np.array(['el','niño','se','cambio','de','casa','porque','no','le','gustaba','la','suya'])\n",
    "print(arreglo)\n",
    "\n",
    "arreglo_ordenado = np.sort(arreglo)\n",
    "print(arreglo_ordenado)"
   ]
  },
  {
   "cell_type": "code",
   "execution_count": 98,
   "metadata": {},
   "outputs": [
    {
     "name": "stdout",
     "output_type": "stream",
     "text": [
      "[True, True, True, True, True, False, True, True, True, False, False, False]\n",
      "['el' 'niño' 'se' 'cambio' 'de' 'porque' 'no' 'le']\n"
     ]
    }
   ],
   "source": [
    "# realizando una busqueda con for\n",
    "arreglo = np.array(['el','niño','se','cambio','de','casa','porque','no','le','gustaba','la','suya'])\n",
    "\n",
    "filtro = []\n",
    "\n",
    "for dato in arreglo:\n",
    "    if dato.find('e') != -1:\n",
    "        filtro.append(True)\n",
    "    elif dato.find('o') != -1:\n",
    "        filtro.append(True)\n",
    "    else:\n",
    "        filtro.append(False)\n",
    "\n",
    "print(filtro)\n",
    "\n",
    "resultado_filtro = arreglo[filtro]\n",
    "print(resultado_filtro)\n"
   ]
  },
  {
   "cell_type": "code",
   "execution_count": 102,
   "metadata": {},
   "outputs": [
    {
     "name": "stdout",
     "output_type": "stream",
     "text": [
      "realizando filtro simple\n",
      "[ True False False  True False  True False False  True  True]\n",
      "[87 81 91 81 98]\n"
     ]
    }
   ],
   "source": [
    "# realizando filtro simple\n",
    "print('realizando filtro simple')\n",
    "\n",
    "arreglo = np.array([87,12,37,81,34,91,41,29,81,98])\n",
    "\n",
    "filtro = arreglo >= 81\n",
    "\n",
    "print(filtro)\n",
    "\n",
    "arreglo_filtrado = arreglo[filtro]\n",
    "print(arreglo_filtrado)"
   ]
  },
  {
   "cell_type": "code",
   "execution_count": 111,
   "metadata": {},
   "outputs": [
    {
     "name": "stdout",
     "output_type": "stream",
     "text": [
      "operaciones algebraicas entre nparreglos\n",
      "suma entre arr_uno y arr_dos\n",
      "[92 84 36 78 97]\n",
      "resta entre arr_uno y arr_dos\n",
      "[90 80 30 70 87]\n",
      "multiplicacion entre arr_uno y arr_dos\n",
      "[ 91 164  99 296 460]\n",
      "division entre arr_uno y arr_dos\n",
      "[91.  41.  11.  18.5 18.4]\n",
      "divmod entre arr_uno y arr_dos\n",
      "[91 41 11 18 18]\n",
      "[0 0 0 2 2]\n"
     ]
    }
   ],
   "source": [
    "# operaciones algebraicas entre nparreglos\n",
    "print('operaciones algebraicas entre nparreglos')\n",
    "\n",
    "arr_uno = np.array([91,82,33,74,92])\n",
    "arr_dos = np.array([1,2,3,4,5])\n",
    "\n",
    "print('suma entre arr_uno y arr_dos')\n",
    "print(np.add(arr_uno,arr_dos))\n",
    "\n",
    "print('resta entre arr_uno y arr_dos')\n",
    "print(np.subtract(arr_uno,arr_dos))\n",
    "\n",
    "print('multiplicacion entre arr_uno y arr_dos')\n",
    "print(np.multiply(arr_uno,arr_dos))\n",
    "\n",
    "print('division entre arr_uno y arr_dos')\n",
    "print(np.divide(arr_uno,arr_dos))\n",
    "\n",
    "print('divmod entre arr_uno y arr_dos')\n",
    "print(np.divmod(arr_uno,arr_dos)[0])\n",
    "print(np.divmod(arr_uno,arr_dos)[1])"
   ]
  }
 ],
 "metadata": {
  "interpreter": {
   "hash": "8f49d0a2ccb4f97d01c250111adf553a964e7903b00b36a23a22a6d59366461d"
  },
  "kernelspec": {
   "display_name": "Python 3.8.11 64-bit ('3.8.11')",
   "language": "python",
   "name": "python3"
  },
  "language_info": {
   "codemirror_mode": {
    "name": "ipython",
    "version": 3
   },
   "file_extension": ".py",
   "mimetype": "text/x-python",
   "name": "python",
   "nbconvert_exporter": "python",
   "pygments_lexer": "ipython3",
   "version": "3.8.11"
  },
  "orig_nbformat": 4
 },
 "nbformat": 4,
 "nbformat_minor": 2
}
