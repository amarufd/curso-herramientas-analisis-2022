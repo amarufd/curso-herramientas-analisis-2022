{
 "cells": [
  {
   "cell_type": "markdown",
   "metadata": {},
   "source": [
    "# NumPy"
   ]
  },
  {
   "cell_type": "code",
   "execution_count": 1,
   "metadata": {},
   "outputs": [
    {
     "name": "stdout",
     "output_type": "stream",
     "text": [
      "[1, 2, 3, 4, 5, 6, 7, 9, 10]\n",
      "<class 'list'>\n",
      "[ 1  2  3  4  5  6  7  8  9 10]\n",
      "<class 'numpy.ndarray'>\n"
     ]
    }
   ],
   "source": [
    "####################### Numpy ##############################\n",
    "\n",
    "import numpy as np\n",
    "\n",
    "arreglo_normal = [1, 2 ,3 ,4 ,5 ,6 ,7 ,9 ,10 ]\n",
    "print(arreglo_normal)\n",
    "print(type(arreglo_normal))\n",
    "\n",
    "arreglo_numpy = np.array([1,2,3,4,5,6,7,8,9,10])\n",
    "print(arreglo_numpy)\n",
    "print(type(arreglo_numpy))\n"
   ]
  },
  {
   "cell_type": "code",
   "execution_count": 2,
   "metadata": {},
   "outputs": [
    {
     "name": "stdout",
     "output_type": "stream",
     "text": [
      "########### arreglo de una dimensión ##############\n",
      "[ 1  2  3  4  5  6  7  8  9 10]\n",
      "1\n",
      "########### arreglo de dos dimensiones ##############\n",
      "[[ 1  2  3  4  5  6  7  8  9 10]\n",
      " [11 12 13 14 15 16 17 18 19 20]]\n",
      "11\n",
      "1\n",
      "########### arreglo de tres dimensiones ##############\n",
      "[[[ 1  2  3  4  5  6  7  8  9 10]\n",
      "  [11 12 13 14 15 16 17 18 19 20]]\n",
      "\n",
      " [[21 22 23 24 25 26 27 28 29 30]\n",
      "  [31 32 33 34 35 36 37 38 39 40]]]\n",
      "21\n",
      "21\n"
     ]
    }
   ],
   "source": [
    "########### arreglo de una dimensión ##############\n",
    "\n",
    "print('########### arreglo de una dimensión ##############')\n",
    "arr_una_dim = np.array([1,2,3,4,5,6,7,8,9,10])\n",
    "print(arr_una_dim)\n",
    "print(arr_una_dim[0])\n",
    "\n",
    "########### arreglo de dos dimensiones ##############\n",
    "\n",
    "print(\"########### arreglo de dos dimensiones ##############\")\n",
    "arr_dos_dim = np.array([[1,2,3,4,5,6,7,8,9,10],[11,12,13,14,15,16,17,18,19,20]])\n",
    "print(arr_dos_dim)\n",
    "print(arr_dos_dim[1][0])\n",
    "print(arr_dos_dim[0,0])\n",
    "\n",
    "########### arreglo de tres dimensiones ##############\n",
    "\n",
    "print('########### arreglo de tres dimensiones ##############')\n",
    "arr_tres_dim = np.array([[[1,2,3,4,5,6,7,8,9,10],[11,12,13,14,15,16,17,18,19,20]],\n",
    "[[21,22,23,24,25,26,27,28,29,30],[31,32,33,34,35,36,37,38,39,40]]])\n",
    "print(arr_tres_dim)\n",
    "print(arr_tres_dim[1,0,0])\n",
    "print(arr_tres_dim[1][0][0])"
   ]
  },
  {
   "cell_type": "code",
   "execution_count": 3,
   "metadata": {},
   "outputs": [
    {
     "name": "stdout",
     "output_type": "stream",
     "text": [
      "########## indice negativo en una dimensión ##########\n",
      "10\n",
      "########## indice negativo en dos dimensiones ##########\n",
      "11\n",
      "20\n",
      "########## indice negativo en tres dimensiones ##########\n",
      "31\n",
      "26\n"
     ]
    }
   ],
   "source": [
    "########################## índice negativo ##########################\n",
    "\n",
    "# viendo el ultimo elemento del arr_una_dim\n",
    "print('########## indice negativo en una dimensión ##########')\n",
    "print(arr_una_dim[-1])\n",
    "\n",
    "\n",
    "# viendo el primer elemento de la ultima fila del arr_dos_dim\n",
    "print('########## indice negativo en dos dimensiones ##########')\n",
    "print(arr_dos_dim[-1,0])\n",
    "print(arr_dos_dim[-1,-1])\n",
    "\n",
    "\n",
    "# viendo el primer elemento del segundo vertice en la ultima fila del arr_tres_dim\n",
    "print('########## indice negativo en tres dimensiones ##########')\n",
    "print(arr_tres_dim[-1,1,0])\n",
    "print(arr_tres_dim[-1,0,-5])"
   ]
  },
  {
   "cell_type": "code",
   "execution_count": 7,
   "metadata": {},
   "outputs": [
    {
     "name": "stdout",
     "output_type": "stream",
     "text": [
      "########## rangos en una dimensión ##########\n",
      "[1 2 3 4 5]\n",
      "====> [1]\n",
      "[ 5  6  7  8  9 10]\n",
      "########## rangos con pasos en una dimensión ##########\n",
      "[1 3 5 7 9]\n",
      "[ 1  4  7 10]\n"
     ]
    }
   ],
   "source": [
    "########################## rangos ##########################\n",
    "\n",
    "# recorriendo del 1 al 5 del arr_una_dim\n",
    "print('########## rangos en una dimensión ##########')\n",
    "print(arr_una_dim[0:5])\n",
    "print(arr_una_dim[4:10])\n",
    "\n",
    "########################## rangos con pasos ##########################\n",
    "print('########## rangos con pasos en una dimensión ##########')\n",
    "print(arr_una_dim[0:10:2])\n",
    "print(arr_una_dim[0:10:3])\n"
   ]
  },
  {
   "cell_type": "code",
   "execution_count": 10,
   "metadata": {},
   "outputs": [
    {
     "name": "stdout",
     "output_type": "stream",
     "text": [
      "########## recorriendo con rangos sin inicio en una dimensión ##########\n",
      "[1 2 3 4 5]\n",
      "########## recorriendo con rangos sin fin en una dimensión ##########\n",
      "[ 6  7  8  9 10]\n",
      "########## recorriendo con rangos sin inicio y sin fin en una dimensión ##########\n",
      "[ 1  2  3  4  5  6  7  8  9 10]\n",
      "########## recorriendo con rangos negativos en una dimensión ##########\n",
      "[6 7 8 9]\n",
      "[ 6  7  8  9 10]\n",
      "[10]\n"
     ]
    }
   ],
   "source": [
    "########################## recorriendo con rangos sin inicio ##########################\n",
    "print('########## recorriendo con rangos sin inicio en una dimensión ##########')\n",
    "print(arr_una_dim[:5])\n",
    "\n",
    "########################## recorriendo con rangos sin fin ##########################\n",
    "print('########## recorriendo con rangos sin fin en una dimensión ##########')\n",
    "print(arr_una_dim[5:])\n",
    "\n",
    "########################## recorriendo con rangos sin inicio y sin fin ##########################\n",
    "print('########## recorriendo con rangos sin inicio y sin fin en una dimensión ##########')\n",
    "print(arr_una_dim[:])\n",
    "\n",
    "\n",
    "########################## recorriendo con rangos negativos ##########################\n",
    "print('########## recorriendo con rangos negativos en una dimensión ##########')\n",
    "print(arr_una_dim[-5:-1])\n",
    "print(arr_una_dim[-5:])\n",
    "print(arr_una_dim[-1:])"
   ]
  },
  {
   "cell_type": "code",
   "execution_count": 14,
   "metadata": {},
   "outputs": [
    {
     "name": "stdout",
     "output_type": "stream",
     "text": [
      "(10,)\n",
      "(2, 10)\n",
      "(2, 2, 10)\n"
     ]
    }
   ],
   "source": [
    "# Shape en una dimensión\n",
    "print(arr_una_dim.shape)\n",
    "\n",
    "# Shape en dos dimensiones\n",
    "print(arr_dos_dim.shape)\n",
    "\n",
    "# Shape en tres dimensiones\n",
    "print(arr_tres_dim.shape)"
   ]
  },
  {
   "cell_type": "code",
   "execution_count": 25,
   "metadata": {},
   "outputs": [
    {
     "name": "stdout",
     "output_type": "stream",
     "text": [
      "reshape de 5,2\n",
      "[[ 1  2]\n",
      " [ 3  4]\n",
      " [ 5  6]\n",
      " [ 7  8]\n",
      " [ 9 10]]\n",
      "reshape de 2,5\n",
      "[[ 1  2  3  4  5]\n",
      " [ 6  7  8  9 10]]\n",
      "reshape de 2,5,2\n",
      "[[[ 1  2]\n",
      "  [ 3  4]\n",
      "  [ 5  6]\n",
      "  [ 7  8]\n",
      "  [ 9 10]]\n",
      "\n",
      " [[11 12]\n",
      "  [13 14]\n",
      "  [15 16]\n",
      "  [17 18]\n",
      "  [19 20]]]\n",
      "reshape de 2,5,2,2\n"
     ]
    },
    {
     "ename": "ValueError",
     "evalue": "cannot reshape array of size 40 into shape (2,5,2,3)",
     "output_type": "error",
     "traceback": [
      "\u001b[0;31m---------------------------------------------------------------------------\u001b[0m",
      "\u001b[0;31mValueError\u001b[0m                                Traceback (most recent call last)",
      "\u001b[1;32m/Users/amarufernandez/Documents/UTEM/diplomado/curso-herramientas-analisis-2022/PythonNotebook/Herramientas_Analisis_NumPy.ipynb Cell 8'\u001b[0m in \u001b[0;36m<cell line: 17>\u001b[0;34m()\u001b[0m\n\u001b[1;32m     <a href='vscode-notebook-cell:/Users/amarufernandez/Documents/UTEM/diplomado/curso-herramientas-analisis-2022/PythonNotebook/Herramientas_Analisis_NumPy.ipynb#ch0000008?line=14'>15</a>\u001b[0m \u001b[39m# reshape en tres dimensiones\u001b[39;00m\n\u001b[1;32m     <a href='vscode-notebook-cell:/Users/amarufernandez/Documents/UTEM/diplomado/curso-herramientas-analisis-2022/PythonNotebook/Herramientas_Analisis_NumPy.ipynb#ch0000008?line=15'>16</a>\u001b[0m \u001b[39mprint\u001b[39m(\u001b[39m'\u001b[39m\u001b[39mreshape de 2,5,2,2\u001b[39m\u001b[39m'\u001b[39m)\n\u001b[0;32m---> <a href='vscode-notebook-cell:/Users/amarufernandez/Documents/UTEM/diplomado/curso-herramientas-analisis-2022/PythonNotebook/Herramientas_Analisis_NumPy.ipynb#ch0000008?line=16'>17</a>\u001b[0m resha_arr_tres_dim \u001b[39m=\u001b[39m arr_tres_dim\u001b[39m.\u001b[39;49mreshape(\u001b[39m2\u001b[39;49m,\u001b[39m5\u001b[39;49m,\u001b[39m2\u001b[39;49m,\u001b[39m3\u001b[39;49m)\n\u001b[1;32m     <a href='vscode-notebook-cell:/Users/amarufernandez/Documents/UTEM/diplomado/curso-herramientas-analisis-2022/PythonNotebook/Herramientas_Analisis_NumPy.ipynb#ch0000008?line=17'>18</a>\u001b[0m \u001b[39mprint\u001b[39m(resha_arr_tres_dim)\n",
      "\u001b[0;31mValueError\u001b[0m: cannot reshape array of size 40 into shape (2,5,2,3)"
     ]
    }
   ],
   "source": [
    "# reshape en una dimensión\n",
    "print('reshape de 5,2')\n",
    "resha_arr_una_dim = arr_una_dim.reshape(5,2)\n",
    "print(resha_arr_una_dim)\n",
    "\n",
    "print('reshape de 2,5')\n",
    "resha_arr_una_dim = arr_una_dim.reshape(2,5)\n",
    "print(resha_arr_una_dim)\n",
    "\n",
    "# reshape en dos dimensiones\n",
    "print('reshape de 2,5,2')\n",
    "resha_arr_dos_dim = arr_dos_dim.reshape(2,5,2)\n",
    "print(resha_arr_dos_dim)\n",
    "\n",
    "# reshape en tres dimensiones\n",
    "print('reshape de 2,5,2,2')\n",
    "resha_arr_tres_dim = arr_tres_dim.reshape(2,5,2,2)\n",
    "print(resha_arr_tres_dim)\n",
    "\n"
   ]
  }
 ],
 "metadata": {
  "interpreter": {
   "hash": "8f49d0a2ccb4f97d01c250111adf553a964e7903b00b36a23a22a6d59366461d"
  },
  "kernelspec": {
   "display_name": "Python 3.8.11 64-bit ('3.8.11')",
   "language": "python",
   "name": "python3"
  },
  "language_info": {
   "codemirror_mode": {
    "name": "ipython",
    "version": 3
   },
   "file_extension": ".py",
   "mimetype": "text/x-python",
   "name": "python",
   "nbconvert_exporter": "python",
   "pygments_lexer": "ipython3",
   "version": "3.8.11"
  },
  "orig_nbformat": 4
 },
 "nbformat": 4,
 "nbformat_minor": 2
}
