{
 "cells": [
  {
   "cell_type": "code",
   "execution_count": 52,
   "metadata": {},
   "outputs": [],
   "source": [
    "import time\n",
    "import numpy as np\n",
    "import pandas as pd\n",
    "from scipy import stats\n",
    "import matplotlib.pyplot as plt\n",
    "from sklearn.model_selection import train_test_split\n",
    "from sklearn.linear_model import LinearRegression"
   ]
  },
  {
   "cell_type": "code",
   "execution_count": 12,
   "metadata": {},
   "outputs": [],
   "source": [
    "# cargando datos csv\n",
    "data = pd.read_csv('data.csv')\n",
    "data.dropna(inplace=True)"
   ]
  },
  {
   "cell_type": "code",
   "execution_count": 13,
   "metadata": {},
   "outputs": [
    {
     "data": {
      "text/html": [
       "<div>\n",
       "<style scoped>\n",
       "    .dataframe tbody tr th:only-of-type {\n",
       "        vertical-align: middle;\n",
       "    }\n",
       "\n",
       "    .dataframe tbody tr th {\n",
       "        vertical-align: top;\n",
       "    }\n",
       "\n",
       "    .dataframe thead th {\n",
       "        text-align: right;\n",
       "    }\n",
       "</style>\n",
       "<table border=\"1\" class=\"dataframe\">\n",
       "  <thead>\n",
       "    <tr style=\"text-align: right;\">\n",
       "      <th></th>\n",
       "      <th>Duration</th>\n",
       "      <th>Pulse</th>\n",
       "      <th>Maxpulse</th>\n",
       "      <th>Calories</th>\n",
       "    </tr>\n",
       "  </thead>\n",
       "  <tbody>\n",
       "    <tr>\n",
       "      <th>count</th>\n",
       "      <td>164.000000</td>\n",
       "      <td>164.000000</td>\n",
       "      <td>164.00000</td>\n",
       "      <td>164.000000</td>\n",
       "    </tr>\n",
       "    <tr>\n",
       "      <th>mean</th>\n",
       "      <td>64.146341</td>\n",
       "      <td>107.676829</td>\n",
       "      <td>134.27439</td>\n",
       "      <td>375.790244</td>\n",
       "    </tr>\n",
       "    <tr>\n",
       "      <th>std</th>\n",
       "      <td>42.888820</td>\n",
       "      <td>14.637516</td>\n",
       "      <td>16.58306</td>\n",
       "      <td>266.379919</td>\n",
       "    </tr>\n",
       "    <tr>\n",
       "      <th>min</th>\n",
       "      <td>15.000000</td>\n",
       "      <td>80.000000</td>\n",
       "      <td>100.00000</td>\n",
       "      <td>50.300000</td>\n",
       "    </tr>\n",
       "    <tr>\n",
       "      <th>25%</th>\n",
       "      <td>45.000000</td>\n",
       "      <td>100.000000</td>\n",
       "      <td>124.00000</td>\n",
       "      <td>250.925000</td>\n",
       "    </tr>\n",
       "    <tr>\n",
       "      <th>50%</th>\n",
       "      <td>60.000000</td>\n",
       "      <td>105.500000</td>\n",
       "      <td>131.00000</td>\n",
       "      <td>318.600000</td>\n",
       "    </tr>\n",
       "    <tr>\n",
       "      <th>75%</th>\n",
       "      <td>60.000000</td>\n",
       "      <td>111.000000</td>\n",
       "      <td>143.00000</td>\n",
       "      <td>387.600000</td>\n",
       "    </tr>\n",
       "    <tr>\n",
       "      <th>max</th>\n",
       "      <td>300.000000</td>\n",
       "      <td>159.000000</td>\n",
       "      <td>184.00000</td>\n",
       "      <td>1860.400000</td>\n",
       "    </tr>\n",
       "  </tbody>\n",
       "</table>\n",
       "</div>"
      ],
      "text/plain": [
       "         Duration       Pulse   Maxpulse     Calories\n",
       "count  164.000000  164.000000  164.00000   164.000000\n",
       "mean    64.146341  107.676829  134.27439   375.790244\n",
       "std     42.888820   14.637516   16.58306   266.379919\n",
       "min     15.000000   80.000000  100.00000    50.300000\n",
       "25%     45.000000  100.000000  124.00000   250.925000\n",
       "50%     60.000000  105.500000  131.00000   318.600000\n",
       "75%     60.000000  111.000000  143.00000   387.600000\n",
       "max    300.000000  159.000000  184.00000  1860.400000"
      ]
     },
     "execution_count": 13,
     "metadata": {},
     "output_type": "execute_result"
    }
   ],
   "source": [
    "# descripcion de los datos\n",
    "data.describe()"
   ]
  },
  {
   "cell_type": "code",
   "execution_count": 6,
   "metadata": {},
   "outputs": [
    {
     "data": {
      "text/html": [
       "<div>\n",
       "<style scoped>\n",
       "    .dataframe tbody tr th:only-of-type {\n",
       "        vertical-align: middle;\n",
       "    }\n",
       "\n",
       "    .dataframe tbody tr th {\n",
       "        vertical-align: top;\n",
       "    }\n",
       "\n",
       "    .dataframe thead th {\n",
       "        text-align: right;\n",
       "    }\n",
       "</style>\n",
       "<table border=\"1\" class=\"dataframe\">\n",
       "  <thead>\n",
       "    <tr style=\"text-align: right;\">\n",
       "      <th></th>\n",
       "      <th>id</th>\n",
       "      <th>edad</th>\n",
       "      <th>mes</th>\n",
       "      <th>ciudad_lser</th>\n",
       "      <th>ciudad_rcgu</th>\n",
       "      <th>ciudad_stgo</th>\n",
       "    </tr>\n",
       "  </thead>\n",
       "  <tbody>\n",
       "    <tr>\n",
       "      <th>0</th>\n",
       "      <td>1</td>\n",
       "      <td>6</td>\n",
       "      <td>3</td>\n",
       "      <td>0</td>\n",
       "      <td>0</td>\n",
       "      <td>1</td>\n",
       "    </tr>\n",
       "    <tr>\n",
       "      <th>1</th>\n",
       "      <td>2</td>\n",
       "      <td>4</td>\n",
       "      <td>3</td>\n",
       "      <td>0</td>\n",
       "      <td>1</td>\n",
       "      <td>0</td>\n",
       "    </tr>\n",
       "    <tr>\n",
       "      <th>2</th>\n",
       "      <td>3</td>\n",
       "      <td>6</td>\n",
       "      <td>2</td>\n",
       "      <td>1</td>\n",
       "      <td>0</td>\n",
       "      <td>0</td>\n",
       "    </tr>\n",
       "    <tr>\n",
       "      <th>3</th>\n",
       "      <td>4</td>\n",
       "      <td>4</td>\n",
       "      <td>1</td>\n",
       "      <td>0</td>\n",
       "      <td>0</td>\n",
       "      <td>1</td>\n",
       "    </tr>\n",
       "    <tr>\n",
       "      <th>4</th>\n",
       "      <td>5</td>\n",
       "      <td>4</td>\n",
       "      <td>1</td>\n",
       "      <td>0</td>\n",
       "      <td>0</td>\n",
       "      <td>1</td>\n",
       "    </tr>\n",
       "  </tbody>\n",
       "</table>\n",
       "</div>"
      ],
      "text/plain": [
       "   id  edad  mes  ciudad_lser  ciudad_rcgu  ciudad_stgo\n",
       "0   1     6    3            0            0            1\n",
       "1   2     4    3            0            1            0\n",
       "2   3     6    2            1            0            0\n",
       "3   4     4    1            0            0            1\n",
       "4   5     4    1            0            0            1"
      ]
     },
     "execution_count": 6,
     "metadata": {},
     "output_type": "execute_result"
    }
   ],
   "source": [
    "# cargar datos.csv\n",
    "datos = pd.read_csv('datos.csv')\n",
    "datos = pd.get_dummies(datos)\n",
    "datos"
   ]
  },
  {
   "cell_type": "code",
   "execution_count": 14,
   "metadata": {},
   "outputs": [
    {
     "name": "stdout",
     "output_type": "stream",
     "text": [
      "Correlación de Pearson: r=-0.1606605195419101, p-value=0.03987022730335446\n"
     ]
    }
   ],
   "source": [
    "\n",
    "r, p = stats.pearsonr(data['Duration'], data['Pulse'])\n",
    "print(f\"Correlación de Pearson: r={r}, p-value={p}\")"
   ]
  },
  {
   "cell_type": "code",
   "execution_count": 19,
   "metadata": {},
   "outputs": [
    {
     "data": {
      "text/plain": [
       "{'whiskers': [<matplotlib.lines.Line2D at 0x138cb4160>,\n",
       "  <matplotlib.lines.Line2D at 0x138cb4430>],\n",
       " 'caps': [<matplotlib.lines.Line2D at 0x138cb4700>,\n",
       "  <matplotlib.lines.Line2D at 0x138cb49d0>],\n",
       " 'boxes': [<matplotlib.lines.Line2D at 0x138ca4e50>],\n",
       " 'medians': [<matplotlib.lines.Line2D at 0x138cb4ca0>],\n",
       " 'fliers': [<matplotlib.lines.Line2D at 0x138cb4f70>],\n",
       " 'means': []}"
      ]
     },
     "execution_count": 19,
     "metadata": {},
     "output_type": "execute_result"
    },
    {
     "data": {
      "image/png": "[encoded data removed]",
      "text/plain": [
       "<Figure size 432x288 with 1 Axes>"
      ]
     },
     "metadata": {
      "needs_background": "light"
     },
     "output_type": "display_data"
    }
   ],
   "source": [
    "plt.boxplot(data['Pulse'], notch=None, vert=None, patch_artist=None, widths=None)"
   ]
  },
  {
   "cell_type": "code",
   "execution_count": 21,
   "metadata": {},
   "outputs": [
    {
     "data": {
      "text/plain": [
       "array([[<AxesSubplot:title={'center':'Duration'}>,\n",
       "        <AxesSubplot:title={'center':'Pulse'}>],\n",
       "       [<AxesSubplot:title={'center':'Maxpulse'}>,\n",
       "        <AxesSubplot:title={'center':'Calories'}>]], dtype=object)"
      ]
     },
     "execution_count": 21,
     "metadata": {},
     "output_type": "execute_result"
    },
    {
     "data": {
      "image/png": "[encoded data removed]",
      "text/plain": [
       "<Figure size 432x288 with 4 Axes>"
      ]
     },
     "metadata": {
      "needs_background": "light"
     },
     "output_type": "display_data"
    }
   ],
   "source": [
    "data.hist()\n"
   ]
  },
  {
   "cell_type": "code",
   "execution_count": 24,
   "metadata": {},
   "outputs": [
    {
     "data": {
      "text/plain": [
       "<AxesSubplot:>"
      ]
     },
     "execution_count": 24,
     "metadata": {},
     "output_type": "execute_result"
    },
    {
     "data": {
      "image/png": "[encoded data removed]",
      "text/plain": [
       "<Figure size 432x288 with 1 Axes>"
      ]
     },
     "metadata": {
      "needs_background": "light"
     },
     "output_type": "display_data"
    }
   ],
   "source": [
    "data['Pulse'].plot(kind='bar')"
   ]
  },
  {
   "cell_type": "code",
   "execution_count": 26,
   "metadata": {},
   "outputs": [
    {
     "data": {
      "text/plain": [
       "<AxesSubplot:xlabel='Duration', ylabel='Calories'>"
      ]
     },
     "execution_count": 26,
     "metadata": {},
     "output_type": "execute_result"
    },
    {
     "data": {
      "image/png": "[encoded data removed]",
      "text/plain": [
       "<Figure size 432x288 with 1 Axes>"
      ]
     },
     "metadata": {
      "needs_background": "light"
     },
     "output_type": "display_data"
    }
   ],
   "source": [
    "data.plot(kind='scatter', x='Duration', y='Calories')"
   ]
  },
  {
   "cell_type": "code",
   "execution_count": 28,
   "metadata": {},
   "outputs": [
    {
     "data": {
      "text/plain": [
       "<AxesSubplot:>"
      ]
     },
     "execution_count": 28,
     "metadata": {},
     "output_type": "execute_result"
    },
    {
     "data": {
      "image/png": "[encoded data removed]",
      "text/plain": [
       "<Figure size 432x288 with 1 Axes>"
      ]
     },
     "metadata": {
      "needs_background": "light"
     },
     "output_type": "display_data"
    }
   ],
   "source": [
    "data['Duration'].plot(kind='barh')"
   ]
  },
  {
   "cell_type": "code",
   "execution_count": 50,
   "metadata": {},
   "outputs": [],
   "source": [
    "# creando grupo X e Y\n",
    "X = data['Duration']\n",
    "X = X.to_numpy().reshape((-1, 1))\n",
    "Y = data['Pulse']\n",
    "\n",
    "X_train, X_test, Y_train, Y_test = train_test_split(X, Y, test_size=0.2, random_state=67)\n",
    "\n",
    "#X_train\n"
   ]
  },
  {
   "cell_type": "code",
   "execution_count": 53,
   "metadata": {},
   "outputs": [
    {
     "name": "stdout",
     "output_type": "stream",
     "text": [
      "coeficiente de determinación : 0.04707138413860179 \n",
      "interceptor: 112.53424841008493 \n",
      "inclinacion: [-0.07441157] \n",
      "Respuesta de predicción:\n",
      " [103.6048605  108.06955445 110.30190143 108.06955445 108.06955445\n",
      " 111.04601709 108.06955445 111.04601709 108.06955445 109.18572794\n",
      " 108.06955445 108.06955445 110.30190143 108.06955445 108.06955445\n",
      " 108.06955445 106.95338097 111.04601709 108.06955445 108.06955445\n",
      " 110.30190143  99.14016654 108.06955445 108.06955445 110.30190143\n",
      "  96.90781956 108.06955445 109.18572794 108.06955445 109.18572794\n",
      " 108.06955445 108.06955445 111.04601709] \n",
      "respuesta de la prediccion:\n",
      " [[103.6048605 ]\n",
      " [108.06955445]\n",
      " [110.30190143]\n",
      " [108.06955445]\n",
      " [108.06955445]\n",
      " [111.04601709]\n",
      " [108.06955445]\n",
      " [111.04601709]\n",
      " [108.06955445]\n",
      " [109.18572794]\n",
      " [108.06955445]\n",
      " [108.06955445]\n",
      " [110.30190143]\n",
      " [108.06955445]\n",
      " [108.06955445]\n",
      " [108.06955445]\n",
      " [106.95338097]\n",
      " [111.04601709]\n",
      " [108.06955445]\n",
      " [108.06955445]\n",
      " [110.30190143]\n",
      " [ 99.14016654]\n",
      " [108.06955445]\n",
      " [108.06955445]\n",
      " [110.30190143]\n",
      " [ 96.90781956]\n",
      " [108.06955445]\n",
      " [109.18572794]\n",
      " [108.06955445]\n",
      " [109.18572794]\n",
      " [108.06955445]\n",
      " [108.06955445]\n",
      " [111.04601709]]\n"
     ]
    }
   ],
   "source": [
    "# Implementando el modelo\n",
    "model = LinearRegression()\n",
    "\n",
    "\n",
    "# Entrenando el modelo\n",
    "model.fit(X_train, Y_train)\n",
    "\n",
    "r_sq = model.score(X_train, Y_train)\n",
    "print(\"coeficiente de determinación : {} \".format(r_sq))\n",
    "\n",
    "\n",
    "print(\"interceptor: {} \".format(model.intercept_))\n",
    "print(\"inclinacion: {} \".format(model.coef_))\n",
    "\n",
    "# Prediciendo\n",
    "prediccion = model.predict(X_test)\n",
    "print(\"Respuesta de predicción:\\n {} \".format(prediccion))\n",
    "\n",
    "\n",
    "# Predicción manual\n",
    "pred_manual = model.intercept_ + model.coef_ * X_test\n",
    "print(\"respuesta de la prediccion:\\n {}\".format(pred_manual))"
   ]
  },
  {
   "cell_type": "code",
   "execution_count": 54,
   "metadata": {},
   "outputs": [
    {
     "data": {
      "image/png": "[encoded data removed]",
      "text/plain": [
       "<Figure size 576x396 with 1 Axes>"
      ]
     },
     "metadata": {},
     "output_type": "display_data"
    }
   ],
   "source": [
    "# Escogiendo estilo de grafico\n",
    "plt.style.use('seaborn')\n",
    "\n",
    "## Graficando la diferencia de errores del test data\n",
    "plt.scatter(prediccion, prediccion - Y_test, color = \"blue\", s = 10, label = 'Test data')\n",
    "\n",
    "## Graficando una Línea horizontal\n",
    "plt.hlines(y = 0, xmin = min(prediccion)-10, xmax = max(prediccion)+10, linewidth = 2)\n",
    "\n",
    "\n",
    "## Escribiendo la leyenda del grafico\n",
    "plt.legend(loc = 'lower right')\n",
    "\n",
    "## Escribiendo el título\n",
    "plt.title(\"Diferencia de errores\")\n",
    "\n",
    "\n",
    "## Método para mostrar el gráfico\n",
    "plt.show()\n"
   ]
  },
  {
   "cell_type": "code",
   "execution_count": 55,
   "metadata": {},
   "outputs": [
    {
     "data": {
      "text/html": [
       "<div>\n",
       "<style scoped>\n",
       "    .dataframe tbody tr th:only-of-type {\n",
       "        vertical-align: middle;\n",
       "    }\n",
       "\n",
       "    .dataframe tbody tr th {\n",
       "        vertical-align: top;\n",
       "    }\n",
       "\n",
       "    .dataframe thead th {\n",
       "        text-align: right;\n",
       "    }\n",
       "</style>\n",
       "<table border=\"1\" class=\"dataframe\">\n",
       "  <thead>\n",
       "    <tr style=\"text-align: right;\">\n",
       "      <th></th>\n",
       "      <th>Duration</th>\n",
       "      <th>Pulse</th>\n",
       "    </tr>\n",
       "  </thead>\n",
       "  <tbody>\n",
       "    <tr>\n",
       "      <th>85</th>\n",
       "      <td>30</td>\n",
       "      <td>151</td>\n",
       "    </tr>\n",
       "    <tr>\n",
       "      <th>140</th>\n",
       "      <td>60</td>\n",
       "      <td>108</td>\n",
       "    </tr>\n",
       "    <tr>\n",
       "      <th>143</th>\n",
       "      <td>45</td>\n",
       "      <td>122</td>\n",
       "    </tr>\n",
       "    <tr>\n",
       "      <th>95</th>\n",
       "      <td>20</td>\n",
       "      <td>151</td>\n",
       "    </tr>\n",
       "    <tr>\n",
       "      <th>9</th>\n",
       "      <td>60</td>\n",
       "      <td>98</td>\n",
       "    </tr>\n",
       "    <tr>\n",
       "      <th>...</th>\n",
       "      <td>...</td>\n",
       "      <td>...</td>\n",
       "    </tr>\n",
       "    <tr>\n",
       "      <th>94</th>\n",
       "      <td>20</td>\n",
       "      <td>150</td>\n",
       "    </tr>\n",
       "    <tr>\n",
       "      <th>142</th>\n",
       "      <td>45</td>\n",
       "      <td>100</td>\n",
       "    </tr>\n",
       "    <tr>\n",
       "      <th>7</th>\n",
       "      <td>45</td>\n",
       "      <td>104</td>\n",
       "    </tr>\n",
       "    <tr>\n",
       "      <th>55</th>\n",
       "      <td>60</td>\n",
       "      <td>121</td>\n",
       "    </tr>\n",
       "    <tr>\n",
       "      <th>69</th>\n",
       "      <td>300</td>\n",
       "      <td>108</td>\n",
       "    </tr>\n",
       "  </tbody>\n",
       "</table>\n",
       "<p>131 rows × 2 columns</p>\n",
       "</div>"
      ],
      "text/plain": [
       "     Duration  Pulse\n",
       "85         30    151\n",
       "140        60    108\n",
       "143        45    122\n",
       "95         20    151\n",
       "9          60     98\n",
       "..        ...    ...\n",
       "94         20    150\n",
       "142        45    100\n",
       "7          45    104\n",
       "55         60    121\n",
       "69        300    108\n",
       "\n",
       "[131 rows x 2 columns]"
      ]
     },
     "execution_count": 55,
     "metadata": {},
     "output_type": "execute_result"
    }
   ],
   "source": [
    "# creando grupo X e Y\n",
    "X = data[['Duration','Pulse']]\n",
    "Y = data['Calories']\n",
    "\n",
    "X_train, X_test, Y_train, Y_test = train_test_split(X, Y, test_size=0.2, random_state=67)\n",
    "\n",
    "X_train"
   ]
  },
  {
   "cell_type": "code",
   "execution_count": 57,
   "metadata": {},
   "outputs": [
    {
     "name": "stdout",
     "output_type": "stream",
     "text": [
      "coeficiente de determinación : 0.8964652031937741 \n",
      "interceptor: -277.75373275255356 \n",
      "inclinacion: [5.70972887 2.66995669] \n",
      "Respuesta de predicción:\n",
      " [ 674.40940114  331.8256687   184.56341269  339.83553877  347.84540884\n",
      "   90.08673029  342.50549546  244.94421831  379.88488912  251.51964897\n",
      "  358.5252356   337.16558208  141.84410565  339.83553877  347.84540884\n",
      "  350.51536553  484.22051906  119.45625388  350.51536553  331.8256687\n",
      "  168.54367255  990.29356668  337.16558208  350.51536553  120.48445213\n",
      " 1287.07339734  363.86514898  323.6084796   361.19519229  219.48016869\n",
      "  361.19519229  371.87501905  130.13608064] \n"
     ]
    }
   ],
   "source": [
    "# Implementando el modelo\n",
    "model = LinearRegression()\n",
    "\n",
    "\n",
    "# Entrenando el modelo\n",
    "model.fit(X_train, Y_train)\n",
    "\n",
    "r_sq = model.score(X_train, Y_train)\n",
    "print(\"coeficiente de determinación : {} \".format(r_sq))\n",
    "\n",
    "\n",
    "print(\"interceptor: {} \".format(model.intercept_))\n",
    "print(\"inclinacion: {} \".format(model.coef_))\n",
    "\n",
    "# Prediciendo\n",
    "prediccion = model.predict(X_test)\n",
    "print(\"Respuesta de predicción:\\n {} \".format(prediccion))\n",
    "\n",
    "\n",
    "# Predicción manual\n",
    "#pred_manual = model.intercept_ + model.coef_ * X_test\n",
    "#print(\"respuesta de la prediccion:\\n {}\".format(pred_manual))\n"
   ]
  },
  {
   "cell_type": "code",
   "execution_count": 58,
   "metadata": {},
   "outputs": [
    {
     "data": {
      "image/png": "[encoded data removed]",
      "text/plain": [
       "<Figure size 576x396 with 1 Axes>"
      ]
     },
     "metadata": {},
     "output_type": "display_data"
    }
   ],
   "source": [
    "# Escogiendo estilo de grafico\n",
    "plt.style.use('seaborn')\n",
    "\n",
    "## Graficando la diferencia de errores del test data\n",
    "plt.scatter(prediccion, prediccion - Y_test, color = \"blue\", s = 10, label = 'Test data')\n",
    "\n",
    "## Graficando una Línea horizontal\n",
    "plt.hlines(y = 0, xmin = min(prediccion)-10, xmax = max(prediccion)+10, linewidth = 2)\n",
    "\n",
    "\n",
    "## Escribiendo la leyenda del grafico\n",
    "plt.legend(loc = 'lower right')\n",
    "\n",
    "## Escribiendo el título\n",
    "plt.title(\"Diferencia de errores\")\n",
    "\n",
    "\n",
    "## Método para mostrar el gráfico\n",
    "plt.show()"
   ]
  }
 ],
 "metadata": {
  "interpreter": {
   "hash": "8f49d0a2ccb4f97d01c250111adf553a964e7903b00b36a23a22a6d59366461d"
  },
  "kernelspec": {
   "display_name": "Python 3.8.11 64-bit ('3.8.11')",
   "language": "python",
   "name": "python3"
  },
  "language_info": {
   "codemirror_mode": {
    "name": "ipython",
    "version": 3
   },
   "file_extension": ".py",
   "mimetype": "text/x-python",
   "name": "python",
   "nbconvert_exporter": "python",
   "pygments_lexer": "ipython3",
   "version": "3.8.11"
  },
  "orig_nbformat": 4
 },
 "nbformat": 4,
 "nbformat_minor": 2
}
